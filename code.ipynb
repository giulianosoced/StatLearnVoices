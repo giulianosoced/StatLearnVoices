{
 "cells": [
  {
   "cell_type": "code",
   "execution_count": 1,
   "metadata": {},
   "outputs": [],
   "source": [
    "import pandas as pd\n",
    "import csv\n",
    "import os, os.path\n",
    "from sklearn.preprocessing import LabelEncoder\n",
    "import sklearn as sk  \n",
    "from sklearn.ensemble import RandomForestClassifier\n",
    "from sklearn import svm  \n",
    "from sklearn.linear_model import LogisticRegression \n",
    "from sklearn.cluster import KMeans\n",
    "from statistics import mean\n",
    "from sklearn.model_selection import train_test_split\n",
    "from sklearn.cluster import SpectralClustering\n",
    "\n",
    "# import numpy as np\n",
    "# from sklearn import preprocessing\n",
    "# import matplotlib.pyplot as plt \n",
    "# import seaborn as sns\n",
    "# from numpy import array\n"
   ]
  },
  {
   "cell_type": "code",
   "execution_count": 2,
   "metadata": {},
   "outputs": [],
   "source": [
    "#creating my dataframe\n",
    "mydata=pd.DataFrame({\"Db\": [], \"Hz\": []})\n",
    "labels=pd.DataFrame({\"Male\": [], \"Feeling\": [], \"Person\":[]})"
   ]
  },
  {
   "cell_type": "code",
   "execution_count": 3,
   "metadata": {},
   "outputs": [],
   "source": [
    "students=['\\\\mario','\\\\giuliano','\\\\cristina'] #directory of records of each student\n",
    "for i in students:\n",
    "    \n",
    "    cwd = os.getcwd() #current working directory\n",
    "    sd = cwd + str(i) #student directory\n",
    "    lab = pd.read_csv(str(sd)+'\\\\labels.csv', sep=';') #read the labels file\n",
    "    labels=pd.concat([labels,lab], ignore_index=True)\n",
    "    \n",
    "    for k in range(1,len(os.listdir(sd))): #runs the cycle with respect to number of records for each student\n",
    "        \n",
    "        read = pd.read_csv(str(sd)+'\\\\sl Registrazione '+str(k)+'.csv', sep = ',') #read data  \n",
    "        \n",
    "        Db=read[\"DecibelSource\"].dropna()  #clean from NAs\n",
    "        Hz=read[\"PitchSensor\"].dropna()    \n",
    "        \n",
    "        Db=list(Db)#make them to list to easier work later\n",
    "        Hz=list(Hz)\n",
    "        \n",
    "        mydata=mydata.append({'Db' : Db , 'Hz' : Hz} , ignore_index=True)\n",
    "\n",
    "    \n",
    "result=pd.concat([mydata,labels], sort=False, axis=1) #merge labels and data"
   ]
  },
  {
   "cell_type": "code",
   "execution_count": 4,
   "metadata": {
    "scrolled": false
   },
   "outputs": [
    {
     "data": {
      "text/html": [
       "<div>\n",
       "<style scoped>\n",
       "    .dataframe tbody tr th:only-of-type {\n",
       "        vertical-align: middle;\n",
       "    }\n",
       "\n",
       "    .dataframe tbody tr th {\n",
       "        vertical-align: top;\n",
       "    }\n",
       "\n",
       "    .dataframe thead th {\n",
       "        text-align: right;\n",
       "    }\n",
       "</style>\n",
       "<table border=\"1\" class=\"dataframe\">\n",
       "  <thead>\n",
       "    <tr style=\"text-align: right;\">\n",
       "      <th></th>\n",
       "      <th>Db</th>\n",
       "      <th>Hz</th>\n",
       "      <th>Male</th>\n",
       "      <th>Feeling</th>\n",
       "      <th>Person</th>\n",
       "    </tr>\n",
       "  </thead>\n",
       "  <tbody>\n",
       "    <tr>\n",
       "      <th>0</th>\n",
       "      <td>[51.509708077318315, 49.206463639207875, 53.09...</td>\n",
       "      <td>[83.5404052734375, 83.5404052734375, 83.540405...</td>\n",
       "      <td>1.0</td>\n",
       "      <td>angry</td>\n",
       "      <td>other</td>\n",
       "    </tr>\n",
       "    <tr>\n",
       "      <th>1</th>\n",
       "      <td>[55.10859961906438, 51.864688959738814, 51.652...</td>\n",
       "      <td>[291.0975477430556, 331.6312255859375, 331.631...</td>\n",
       "      <td>0.0</td>\n",
       "      <td>happy</td>\n",
       "      <td>other</td>\n",
       "    </tr>\n",
       "    <tr>\n",
       "      <th>2</th>\n",
       "      <td>[29.52738094783193, 27.660100580824576, 25.288...</td>\n",
       "      <td>[268.5400390625, 230.9423828125, 230.942382812...</td>\n",
       "      <td>1.0</td>\n",
       "      <td>steady</td>\n",
       "      <td>other</td>\n",
       "    </tr>\n",
       "    <tr>\n",
       "      <th>3</th>\n",
       "      <td>[33.119446531464924, 28.733594908973828, 33.64...</td>\n",
       "      <td>[419.1162109375, 419.1162109375, 419.116210937...</td>\n",
       "      <td>1.0</td>\n",
       "      <td>sad</td>\n",
       "      <td>other</td>\n",
       "    </tr>\n",
       "    <tr>\n",
       "      <th>4</th>\n",
       "      <td>[19.45318383545405, 18.038502361992837, 16.372...</td>\n",
       "      <td>[0.0, 0.0, 0.0, 0.0, 0.0, 0.0, 0.0, 339.233398...</td>\n",
       "      <td>0.0</td>\n",
       "      <td>angry</td>\n",
       "      <td>other</td>\n",
       "    </tr>\n",
       "  </tbody>\n",
       "</table>\n",
       "</div>"
      ],
      "text/plain": [
       "                                                  Db  \\\n",
       "0  [51.509708077318315, 49.206463639207875, 53.09...   \n",
       "1  [55.10859961906438, 51.864688959738814, 51.652...   \n",
       "2  [29.52738094783193, 27.660100580824576, 25.288...   \n",
       "3  [33.119446531464924, 28.733594908973828, 33.64...   \n",
       "4  [19.45318383545405, 18.038502361992837, 16.372...   \n",
       "\n",
       "                                                  Hz  Male Feeling  Person  \n",
       "0  [83.5404052734375, 83.5404052734375, 83.540405...   1.0   angry   other  \n",
       "1  [291.0975477430556, 331.6312255859375, 331.631...   0.0   happy   other  \n",
       "2  [268.5400390625, 230.9423828125, 230.942382812...   1.0  steady  other   \n",
       "3  [419.1162109375, 419.1162109375, 419.116210937...   1.0     sad   other  \n",
       "4  [0.0, 0.0, 0.0, 0.0, 0.0, 0.0, 0.0, 339.233398...   0.0   angry   other  "
      ]
     },
     "execution_count": 4,
     "metadata": {},
     "output_type": "execute_result"
    }
   ],
   "source": [
    "result.head()"
   ]
  },
  {
   "cell_type": "code",
   "execution_count": 5,
   "metadata": {},
   "outputs": [
    {
     "name": "stdout",
     "output_type": "stream",
     "text": [
      "{'other ', 'mario', 'other', 'giuliano', 'cristina'}\n",
      "{'happy', 'steady', 'serious', 'sad', 'angry', 'happy '}\n"
     ]
    }
   ],
   "source": [
    "#see if there are problem with classes\n",
    "print(set(result.Person))\n",
    "print(set(result.Feeling))"
   ]
  },
  {
   "cell_type": "code",
   "execution_count": 6,
   "metadata": {},
   "outputs": [
    {
     "name": "stderr",
     "output_type": "stream",
     "text": [
      "C:\\ProgramData\\Anaconda3\\lib\\site-packages\\ipykernel_launcher.py:8: SettingWithCopyWarning: \n",
      "A value is trying to be set on a copy of a slice from a DataFrame\n",
      "\n",
      "See the caveats in the documentation: http://pandas.pydata.org/pandas-docs/stable/indexing.html#indexing-view-versus-copy\n",
      "  \n",
      "C:\\ProgramData\\Anaconda3\\lib\\site-packages\\ipykernel_launcher.py:4: SettingWithCopyWarning: \n",
      "A value is trying to be set on a copy of a slice from a DataFrame\n",
      "\n",
      "See the caveats in the documentation: http://pandas.pydata.org/pandas-docs/stable/indexing.html#indexing-view-versus-copy\n",
      "  after removing the cwd from sys.path.\n",
      "C:\\ProgramData\\Anaconda3\\lib\\site-packages\\ipykernel_launcher.py:6: SettingWithCopyWarning: \n",
      "A value is trying to be set on a copy of a slice from a DataFrame\n",
      "\n",
      "See the caveats in the documentation: http://pandas.pydata.org/pandas-docs/stable/indexing.html#indexing-view-versus-copy\n",
      "  \n"
     ]
    }
   ],
   "source": [
    "#fix them\n",
    "for i in range(len(result)):\n",
    "    if result['Feeling'][i]=='happy ':\n",
    "        result['Feeling'][i]='happy'\n",
    "    if result['Feeling'][i]=='serious':\n",
    "        result['Feeling'][i]='steady'\n",
    "    if result['Person'][i]=='other ':\n",
    "        result['Person'][i]='other'"
   ]
  },
  {
   "cell_type": "markdown",
   "metadata": {},
   "source": [
    "## Categorical encoding"
   ]
  },
  {
   "cell_type": "code",
   "execution_count": 7,
   "metadata": {},
   "outputs": [],
   "source": [
    "##transform every cathegorical var into numbers\n",
    "le=LabelEncoder()\n",
    "\n",
    "cat=['Feeling','Person']\n",
    "\n",
    "for i in cat:\n",
    "    result[i]=le.fit_transform(result[i].astype(str))"
   ]
  },
  {
   "cell_type": "code",
   "execution_count": 8,
   "metadata": {},
   "outputs": [
    {
     "data": {
      "text/html": [
       "<div>\n",
       "<style scoped>\n",
       "    .dataframe tbody tr th:only-of-type {\n",
       "        vertical-align: middle;\n",
       "    }\n",
       "\n",
       "    .dataframe tbody tr th {\n",
       "        vertical-align: top;\n",
       "    }\n",
       "\n",
       "    .dataframe thead th {\n",
       "        text-align: right;\n",
       "    }\n",
       "</style>\n",
       "<table border=\"1\" class=\"dataframe\">\n",
       "  <thead>\n",
       "    <tr style=\"text-align: right;\">\n",
       "      <th></th>\n",
       "      <th>Db</th>\n",
       "      <th>Hz</th>\n",
       "      <th>Male</th>\n",
       "      <th>Feeling</th>\n",
       "      <th>Person</th>\n",
       "    </tr>\n",
       "  </thead>\n",
       "  <tbody>\n",
       "    <tr>\n",
       "      <th>0</th>\n",
       "      <td>[51.509708077318315, 49.206463639207875, 53.09...</td>\n",
       "      <td>[83.5404052734375, 83.5404052734375, 83.540405...</td>\n",
       "      <td>1.0</td>\n",
       "      <td>0</td>\n",
       "      <td>3</td>\n",
       "    </tr>\n",
       "    <tr>\n",
       "      <th>1</th>\n",
       "      <td>[55.10859961906438, 51.864688959738814, 51.652...</td>\n",
       "      <td>[291.0975477430556, 331.6312255859375, 331.631...</td>\n",
       "      <td>0.0</td>\n",
       "      <td>1</td>\n",
       "      <td>3</td>\n",
       "    </tr>\n",
       "    <tr>\n",
       "      <th>2</th>\n",
       "      <td>[29.52738094783193, 27.660100580824576, 25.288...</td>\n",
       "      <td>[268.5400390625, 230.9423828125, 230.942382812...</td>\n",
       "      <td>1.0</td>\n",
       "      <td>3</td>\n",
       "      <td>3</td>\n",
       "    </tr>\n",
       "    <tr>\n",
       "      <th>3</th>\n",
       "      <td>[33.119446531464924, 28.733594908973828, 33.64...</td>\n",
       "      <td>[419.1162109375, 419.1162109375, 419.116210937...</td>\n",
       "      <td>1.0</td>\n",
       "      <td>2</td>\n",
       "      <td>3</td>\n",
       "    </tr>\n",
       "    <tr>\n",
       "      <th>4</th>\n",
       "      <td>[19.45318383545405, 18.038502361992837, 16.372...</td>\n",
       "      <td>[0.0, 0.0, 0.0, 0.0, 0.0, 0.0, 0.0, 339.233398...</td>\n",
       "      <td>0.0</td>\n",
       "      <td>0</td>\n",
       "      <td>3</td>\n",
       "    </tr>\n",
       "  </tbody>\n",
       "</table>\n",
       "</div>"
      ],
      "text/plain": [
       "                                                  Db  \\\n",
       "0  [51.509708077318315, 49.206463639207875, 53.09...   \n",
       "1  [55.10859961906438, 51.864688959738814, 51.652...   \n",
       "2  [29.52738094783193, 27.660100580824576, 25.288...   \n",
       "3  [33.119446531464924, 28.733594908973828, 33.64...   \n",
       "4  [19.45318383545405, 18.038502361992837, 16.372...   \n",
       "\n",
       "                                                  Hz  Male  Feeling  Person  \n",
       "0  [83.5404052734375, 83.5404052734375, 83.540405...   1.0        0       3  \n",
       "1  [291.0975477430556, 331.6312255859375, 331.631...   0.0        1       3  \n",
       "2  [268.5400390625, 230.9423828125, 230.942382812...   1.0        3       3  \n",
       "3  [419.1162109375, 419.1162109375, 419.116210937...   1.0        2       3  \n",
       "4  [0.0, 0.0, 0.0, 0.0, 0.0, 0.0, 0.0, 339.233398...   0.0        0       3  "
      ]
     },
     "execution_count": 8,
     "metadata": {},
     "output_type": "execute_result"
    }
   ],
   "source": [
    "result.head()"
   ]
  },
  {
   "cell_type": "markdown",
   "metadata": {},
   "source": [
    "# Cleaning"
   ]
  },
  {
   "cell_type": "code",
   "execution_count": 9,
   "metadata": {},
   "outputs": [
    {
     "name": "stdout",
     "output_type": "stream",
     "text": [
      "16 angry records\n",
      "33 happy records\n",
      "17 sad records\n",
      "64 steady records\n",
      "\n",
      "65 female records\n",
      "65 male records\n"
     ]
    }
   ],
   "source": [
    "#are the feeling balanced?\n",
    "print(str(len(result.loc[result[\"Feeling\"]==0]))+' angry records')\n",
    "print(str(len(result.loc[result[\"Feeling\"]==1]))+' happy records')\n",
    "print(str(len(result.loc[result[\"Feeling\"]==2]))+' sad records')\n",
    "print(str(len(result.loc[result[\"Feeling\"]==3]))+' steady records')\n",
    "print('')\n",
    "print(str(len(result.loc[result[\"Male\"]==0]))+' female records')\n",
    "print(str(len(result.loc[result[\"Male\"]==1]))+' male records')"
   ]
  },
  {
   "cell_type": "code",
   "execution_count": 10,
   "metadata": {},
   "outputs": [],
   "source": [
    "#evaluate mininum len\n",
    "mini=100000000000000000 \n",
    "for i in range(len(result)):\n",
    "    now=len(result[\"Hz\"][i]) #see lenght of first HZ vector\n",
    "#     print(str(i)+ \" \" +str(now)) #print number of vector and his lenght\n",
    "    if now<mini: #see if is the shortest vector\n",
    "        mini=now #if shortest, update minimum value\n",
    "# mini"
   ]
  },
  {
   "cell_type": "code",
   "execution_count": 11,
   "metadata": {},
   "outputs": [
    {
     "name": "stderr",
     "output_type": "stream",
     "text": [
      "C:\\ProgramData\\Anaconda3\\lib\\site-packages\\ipykernel_launcher.py:4: SettingWithCopyWarning: \n",
      "A value is trying to be set on a copy of a slice from a DataFrame\n",
      "\n",
      "See the caveats in the documentation: http://pandas.pydata.org/pandas-docs/stable/indexing.html#indexing-view-versus-copy\n",
      "  after removing the cwd from sys.path.\n",
      "C:\\ProgramData\\Anaconda3\\lib\\site-packages\\ipykernel_launcher.py:7: SettingWithCopyWarning: \n",
      "A value is trying to be set on a copy of a slice from a DataFrame\n",
      "\n",
      "See the caveats in the documentation: http://pandas.pydata.org/pandas-docs/stable/indexing.html#indexing-view-versus-copy\n",
      "  import sys\n"
     ]
    }
   ],
   "source": [
    "#same len for all\n",
    "\n",
    "for i in range(len(result)):\n",
    "    result[\"Db\"][i]=result[\"Db\"][i][0:mini]\n",
    "\n",
    "for i in range(len(result)):\n",
    "    result[\"Hz\"][i]=result[\"Hz\"][i][0:mini]"
   ]
  },
  {
   "cell_type": "code",
   "execution_count": 12,
   "metadata": {},
   "outputs": [],
   "source": [
    "#selecting only male and female to study their properties\n",
    "male=result.loc[result[\"Male\"]==1]\n",
    "male=male.reset_index(drop=True)  #setting new indexes for the new DF\n",
    "female=result.loc[result[\"Male\"]==0]\n",
    "female=female.reset_index(drop=True)"
   ]
  },
  {
   "cell_type": "code",
   "execution_count": 13,
   "metadata": {},
   "outputs": [
    {
     "name": "stdout",
     "output_type": "stream",
     "text": [
      "mean for DB in male is 46.3\n",
      "mean for HZ in male is 305.66\n",
      "mean for DB in female is 41.42\n",
      "mean for HZ in female is 282.85\n"
     ]
    }
   ],
   "source": [
    "##let's see how the means differs\n",
    "somma=0\n",
    "for i in range(len(male)):\n",
    "    somma+=mean(male[\"Db\"][i])\n",
    "print(\"mean for DB in male is \"+str(round(somma/(len(male)+1),2)))\n",
    "\n",
    "somma=0\n",
    "for i in range(len(male)):\n",
    "    somma+=mean(male[\"Hz\"][i])\n",
    "print(\"mean for HZ in male is \" + str(round(somma/(len(male)+1),2)))\n",
    "\n",
    "##now for female..\n",
    "somma=0\n",
    "for i in range(len(female)):\n",
    "    somma+=mean(female[\"Db\"][i])\n",
    "print(\"mean for DB in female is \"+str(round(somma/(len(female)+1),2)))\n",
    "\n",
    "somma=0\n",
    "for i in range(len(female)):\n",
    "    somma+=mean(female[\"Hz\"][i])\n",
    "print(\"mean for HZ in female is \" +str(round(somma/(len(female)+1),2)))"
   ]
  },
  {
   "cell_type": "code",
   "execution_count": 14,
   "metadata": {},
   "outputs": [],
   "source": [
    "#Creating our X matrix\n",
    "cols=['Db','Hz']#selecting only hz and db data\n",
    "mat=[] #empty matrix\n",
    "for c in cols:\n",
    "    for k in range(mini):\n",
    "        l=[] #empty array\n",
    "        for i in range(len(result)):\n",
    "            l.append(result[c][i][k]) #filling the array making it the column we are going to use\n",
    "        mat.append(l) #append our column to the matrix\n",
    "X=pd.DataFrame(mat) #make it a pandas df\n",
    "X=X.T #transpose it\n",
    "X=pd.concat([X,result.Person],axis=1)#add person column"
   ]
  },
  {
   "cell_type": "code",
   "execution_count": 16,
   "metadata": {},
   "outputs": [
    {
     "data": {
      "text/html": [
       "<div>\n",
       "<style scoped>\n",
       "    .dataframe tbody tr th:only-of-type {\n",
       "        vertical-align: middle;\n",
       "    }\n",
       "\n",
       "    .dataframe tbody tr th {\n",
       "        vertical-align: top;\n",
       "    }\n",
       "\n",
       "    .dataframe thead th {\n",
       "        text-align: right;\n",
       "    }\n",
       "</style>\n",
       "<table border=\"1\" class=\"dataframe\">\n",
       "  <thead>\n",
       "    <tr style=\"text-align: right;\">\n",
       "      <th></th>\n",
       "      <th>0</th>\n",
       "      <th>1</th>\n",
       "      <th>2</th>\n",
       "      <th>3</th>\n",
       "      <th>4</th>\n",
       "      <th>5</th>\n",
       "      <th>6</th>\n",
       "      <th>7</th>\n",
       "      <th>8</th>\n",
       "      <th>9</th>\n",
       "      <th>...</th>\n",
       "      <th>237</th>\n",
       "      <th>238</th>\n",
       "      <th>239</th>\n",
       "      <th>240</th>\n",
       "      <th>241</th>\n",
       "      <th>242</th>\n",
       "      <th>243</th>\n",
       "      <th>244</th>\n",
       "      <th>245</th>\n",
       "      <th>Person</th>\n",
       "    </tr>\n",
       "  </thead>\n",
       "  <tbody>\n",
       "    <tr>\n",
       "      <th>0</th>\n",
       "      <td>51.509708</td>\n",
       "      <td>49.206464</td>\n",
       "      <td>53.098951</td>\n",
       "      <td>52.469692</td>\n",
       "      <td>53.167057</td>\n",
       "      <td>52.176484</td>\n",
       "      <td>48.654212</td>\n",
       "      <td>53.256975</td>\n",
       "      <td>52.688264</td>\n",
       "      <td>56.267311</td>\n",
       "      <td>...</td>\n",
       "      <td>214.801432</td>\n",
       "      <td>214.801432</td>\n",
       "      <td>128.659220</td>\n",
       "      <td>128.659220</td>\n",
       "      <td>128.659220</td>\n",
       "      <td>128.659220</td>\n",
       "      <td>78.327759</td>\n",
       "      <td>78.327759</td>\n",
       "      <td>78.327759</td>\n",
       "      <td>3</td>\n",
       "    </tr>\n",
       "    <tr>\n",
       "      <th>1</th>\n",
       "      <td>55.108600</td>\n",
       "      <td>51.864689</td>\n",
       "      <td>51.652674</td>\n",
       "      <td>47.638640</td>\n",
       "      <td>49.127333</td>\n",
       "      <td>48.002193</td>\n",
       "      <td>53.917669</td>\n",
       "      <td>54.711934</td>\n",
       "      <td>54.078948</td>\n",
       "      <td>51.856219</td>\n",
       "      <td>...</td>\n",
       "      <td>328.022705</td>\n",
       "      <td>328.022705</td>\n",
       "      <td>77.165527</td>\n",
       "      <td>77.165527</td>\n",
       "      <td>77.165527</td>\n",
       "      <td>332.609030</td>\n",
       "      <td>332.609030</td>\n",
       "      <td>332.609030</td>\n",
       "      <td>332.609030</td>\n",
       "      <td>3</td>\n",
       "    </tr>\n",
       "    <tr>\n",
       "      <th>2</th>\n",
       "      <td>29.527381</td>\n",
       "      <td>27.660101</td>\n",
       "      <td>25.288264</td>\n",
       "      <td>20.859257</td>\n",
       "      <td>22.952716</td>\n",
       "      <td>26.111523</td>\n",
       "      <td>39.505439</td>\n",
       "      <td>35.678947</td>\n",
       "      <td>34.919236</td>\n",
       "      <td>32.231507</td>\n",
       "      <td>...</td>\n",
       "      <td>222.426758</td>\n",
       "      <td>222.426758</td>\n",
       "      <td>222.426758</td>\n",
       "      <td>122.093913</td>\n",
       "      <td>122.093913</td>\n",
       "      <td>122.093913</td>\n",
       "      <td>64.099609</td>\n",
       "      <td>64.099609</td>\n",
       "      <td>64.099609</td>\n",
       "      <td>3</td>\n",
       "    </tr>\n",
       "    <tr>\n",
       "      <th>3</th>\n",
       "      <td>33.119447</td>\n",
       "      <td>28.733595</td>\n",
       "      <td>33.640379</td>\n",
       "      <td>45.195911</td>\n",
       "      <td>46.322613</td>\n",
       "      <td>38.580593</td>\n",
       "      <td>42.709851</td>\n",
       "      <td>39.776593</td>\n",
       "      <td>30.642523</td>\n",
       "      <td>24.077781</td>\n",
       "      <td>...</td>\n",
       "      <td>128.453762</td>\n",
       "      <td>184.490601</td>\n",
       "      <td>184.490601</td>\n",
       "      <td>184.490601</td>\n",
       "      <td>184.490601</td>\n",
       "      <td>168.398966</td>\n",
       "      <td>168.398966</td>\n",
       "      <td>168.398966</td>\n",
       "      <td>168.398966</td>\n",
       "      <td>3</td>\n",
       "    </tr>\n",
       "    <tr>\n",
       "      <th>4</th>\n",
       "      <td>19.453184</td>\n",
       "      <td>18.038502</td>\n",
       "      <td>16.372480</td>\n",
       "      <td>15.836151</td>\n",
       "      <td>23.020714</td>\n",
       "      <td>23.356387</td>\n",
       "      <td>21.816119</td>\n",
       "      <td>22.132527</td>\n",
       "      <td>21.352715</td>\n",
       "      <td>19.915726</td>\n",
       "      <td>...</td>\n",
       "      <td>527.344727</td>\n",
       "      <td>527.344727</td>\n",
       "      <td>527.344727</td>\n",
       "      <td>1027.164103</td>\n",
       "      <td>1027.164103</td>\n",
       "      <td>1027.164103</td>\n",
       "      <td>1027.164103</td>\n",
       "      <td>497.380534</td>\n",
       "      <td>497.380534</td>\n",
       "      <td>3</td>\n",
       "    </tr>\n",
       "  </tbody>\n",
       "</table>\n",
       "<p>5 rows × 247 columns</p>\n",
       "</div>"
      ],
      "text/plain": [
       "           0          1          2          3          4          5  \\\n",
       "0  51.509708  49.206464  53.098951  52.469692  53.167057  52.176484   \n",
       "1  55.108600  51.864689  51.652674  47.638640  49.127333  48.002193   \n",
       "2  29.527381  27.660101  25.288264  20.859257  22.952716  26.111523   \n",
       "3  33.119447  28.733595  33.640379  45.195911  46.322613  38.580593   \n",
       "4  19.453184  18.038502  16.372480  15.836151  23.020714  23.356387   \n",
       "\n",
       "           6          7          8          9  ...         237         238  \\\n",
       "0  48.654212  53.256975  52.688264  56.267311  ...  214.801432  214.801432   \n",
       "1  53.917669  54.711934  54.078948  51.856219  ...  328.022705  328.022705   \n",
       "2  39.505439  35.678947  34.919236  32.231507  ...  222.426758  222.426758   \n",
       "3  42.709851  39.776593  30.642523  24.077781  ...  128.453762  184.490601   \n",
       "4  21.816119  22.132527  21.352715  19.915726  ...  527.344727  527.344727   \n",
       "\n",
       "          239          240          241          242          243         244  \\\n",
       "0  128.659220   128.659220   128.659220   128.659220    78.327759   78.327759   \n",
       "1   77.165527    77.165527    77.165527   332.609030   332.609030  332.609030   \n",
       "2  222.426758   122.093913   122.093913   122.093913    64.099609   64.099609   \n",
       "3  184.490601   184.490601   184.490601   168.398966   168.398966  168.398966   \n",
       "4  527.344727  1027.164103  1027.164103  1027.164103  1027.164103  497.380534   \n",
       "\n",
       "          245  Person  \n",
       "0   78.327759       3  \n",
       "1  332.609030       3  \n",
       "2   64.099609       3  \n",
       "3  168.398966       3  \n",
       "4  497.380534       3  \n",
       "\n",
       "[5 rows x 247 columns]"
      ]
     },
     "execution_count": 16,
     "metadata": {},
     "output_type": "execute_result"
    }
   ],
   "source": [
    "X.head()"
   ]
  },
  {
   "cell_type": "code",
   "execution_count": 57,
   "metadata": {},
   "outputs": [],
   "source": [
    "#define Y. SHUTDOWN THE Y YOU DON'T WANT TO USE\n",
    "y=result.Feeling \n",
    "# y=result.Male\n",
    "\n",
    "#splitting train and test\n",
    "X_train, X_test, y_train, y_test = train_test_split(X, y, test_size=0.33, random_state=42)"
   ]
  },
  {
   "cell_type": "markdown",
   "metadata": {},
   "source": [
    "# Random forest\n",
    "## on Gender"
   ]
  },
  {
   "cell_type": "code",
   "execution_count": 15,
   "metadata": {},
   "outputs": [],
   "source": [
    "\"\"\"#define y\n",
    "y_G=result.Male #y for gender\n",
    "y_F=result.Feeling #y for feeling\"\"\""
   ]
  },
  {
   "cell_type": "code",
   "execution_count": 47,
   "metadata": {},
   "outputs": [
    {
     "data": {
      "text/plain": [
       "array([0., 0., 0., 1., 1., 1., 0., 0., 1., 0., 0., 0., 0., 0., 0., 0., 0.,\n",
       "       0., 0., 1., 1., 0., 1., 1., 1., 1., 1., 0., 0., 0., 1., 1., 1., 0.,\n",
       "       0., 1., 1., 0., 0., 1., 1., 1., 1.])"
      ]
     },
     "execution_count": 47,
     "metadata": {},
     "output_type": "execute_result"
    }
   ],
   "source": [
    "RF = RandomForestClassifier(n_estimators=100, max_depth=2, random_state=0)  \n",
    "RF.fit(X_train, y_train)  \n",
    "RF.predict(X_test)"
   ]
  },
  {
   "cell_type": "code",
   "execution_count": 49,
   "metadata": {},
   "outputs": [
    {
     "name": "stdout",
     "output_type": "stream",
     "text": [
      "0.0-0.0  well done! \n",
      "\n",
      "0.0-0.0  well done! \n",
      "\n",
      "0.0-0.0  well done! \n",
      "\n",
      "1.0-1.0  well done! \n",
      "\n",
      "1.0-1.0  well done! \n",
      "\n",
      "1.0-1.0  well done! \n",
      "\n",
      "0.0-0.0  well done! \n",
      "\n",
      "0.0-0.0  well done! \n",
      "\n",
      "1.0-1.0  well done! \n",
      "\n",
      "0.0-0.0  well done! \n",
      "\n",
      "0.0-0.0  well done! \n",
      "\n",
      "0.0-0.0  well done! \n",
      "\n",
      "1.0-0.0 \n",
      "\n",
      "0.0-0.0  well done! \n",
      "\n",
      "0.0-0.0  well done! \n",
      "\n",
      "0.0-0.0  well done! \n",
      "\n",
      "0.0-0.0  well done! \n",
      "\n",
      "1.0-0.0 \n",
      "\n",
      "0.0-0.0  well done! \n",
      "\n",
      "0.0-1.0 \n",
      "\n",
      "1.0-1.0  well done! \n",
      "\n",
      "0.0-0.0  well done! \n",
      "\n",
      "1.0-1.0  well done! \n",
      "\n",
      "1.0-1.0  well done! \n",
      "\n",
      "1.0-1.0  well done! \n",
      "\n",
      "1.0-1.0  well done! \n",
      "\n",
      "1.0-1.0  well done! \n",
      "\n",
      "0.0-0.0  well done! \n",
      "\n",
      "0.0-0.0  well done! \n",
      "\n",
      "1.0-0.0 \n",
      "\n",
      "1.0-1.0  well done! \n",
      "\n",
      "1.0-1.0  well done! \n",
      "\n",
      "1.0-1.0  well done! \n",
      "\n",
      "0.0-0.0  well done! \n",
      "\n",
      "0.0-0.0  well done! \n",
      "\n",
      "1.0-1.0  well done! \n",
      "\n",
      "0.0-1.0 \n",
      "\n",
      "1.0-0.0 \n",
      "\n",
      "0.0-0.0  well done! \n",
      "\n",
      "1.0-1.0  well done! \n",
      "\n",
      "1.0-1.0  well done! \n",
      "\n",
      "1.0-1.0  well done! \n",
      "\n",
      "0.0-1.0 \n",
      "\n"
     ]
    }
   ],
   "source": [
    "for i in range(len(y_test)):\n",
    "    print(y_test.reset_index(drop=True)[i],end= \"-\")\n",
    "    print(RF.predict(X_test)[i], end=' ')\n",
    "    if RF.predict(X_test)[i]==y_test.reset_index(drop=True)[i]:\n",
    "        print(' well done! \\n')\n",
    "    else:\n",
    "        print('\\n')"
   ]
  },
  {
   "cell_type": "markdown",
   "metadata": {},
   "source": [
    "# Random forest\n",
    "## on Feeling"
   ]
  },
  {
   "cell_type": "code",
   "execution_count": 58,
   "metadata": {},
   "outputs": [
    {
     "data": {
      "text/plain": [
       "array([3, 3, 3, 3, 3, 3, 3, 3, 3, 3, 3, 3, 3, 3, 3, 3, 3, 3, 3, 3, 3, 3,\n",
       "       3, 3, 3, 3, 3, 3, 3, 3, 3, 3, 3, 3, 3, 3, 3, 3, 3, 3, 3, 3, 3])"
      ]
     },
     "execution_count": 58,
     "metadata": {},
     "output_type": "execute_result"
    }
   ],
   "source": [
    "RF = RandomForestClassifier(n_estimators=100, max_depth=2, random_state=0)  \n",
    "RF.fit(X_train, y_train)  \n",
    "RF.predict(X_test)"
   ]
  },
  {
   "cell_type": "code",
   "execution_count": 60,
   "metadata": {},
   "outputs": [
    {
     "name": "stdout",
     "output_type": "stream",
     "text": [
      "3-3 well done! \n",
      "\n",
      "3-3 well done! \n",
      "\n",
      "3-3 well done! \n",
      "\n",
      "1-3\n",
      "\n",
      "3-3 well done! \n",
      "\n",
      "1-3\n",
      "\n",
      "3-3 well done! \n",
      "\n",
      "1-3\n",
      "\n",
      "3-3 well done! \n",
      "\n",
      "3-3 well done! \n",
      "\n",
      "2-3\n",
      "\n",
      "1-3\n",
      "\n",
      "0-3\n",
      "\n",
      "0-3\n",
      "\n",
      "3-3 well done! \n",
      "\n",
      "0-3\n",
      "\n",
      "2-3\n",
      "\n",
      "0-3\n",
      "\n",
      "1-3\n",
      "\n",
      "2-3\n",
      "\n",
      "1-3\n",
      "\n",
      "1-3\n",
      "\n",
      "3-3 well done! \n",
      "\n",
      "3-3 well done! \n",
      "\n",
      "3-3 well done! \n",
      "\n",
      "3-3 well done! \n",
      "\n",
      "3-3 well done! \n",
      "\n",
      "3-3 well done! \n",
      "\n",
      "1-3\n",
      "\n",
      "0-3\n",
      "\n",
      "1-3\n",
      "\n",
      "1-3\n",
      "\n",
      "3-3 well done! \n",
      "\n",
      "3-3 well done! \n",
      "\n",
      "1-3\n",
      "\n",
      "3-3 well done! \n",
      "\n",
      "3-3 well done! \n",
      "\n",
      "1-3\n",
      "\n",
      "3-3 well done! \n",
      "\n",
      "3-3 well done! \n",
      "\n",
      "3-3 well done! \n",
      "\n",
      "2-3\n",
      "\n",
      "2-3\n",
      "\n"
     ]
    }
   ],
   "source": [
    "for i in range(len(y_test)):\n",
    "    print(y_test.reset_index(drop=True)[i],end= \"-\")\n",
    "    print(RF.predict(X_test)[i], end='')\n",
    "    if RF.predict(X_test)[i]==y_test.reset_index(drop=True)[i]:\n",
    "        print(' well done! \\n')\n",
    "    else:\n",
    "        print('\\n')"
   ]
  },
  {
   "cell_type": "markdown",
   "metadata": {},
   "source": [
    "# Support vector machine \n",
    "## on Gender"
   ]
  },
  {
   "cell_type": "code",
   "execution_count": 50,
   "metadata": {},
   "outputs": [
    {
     "name": "stderr",
     "output_type": "stream",
     "text": [
      "C:\\ProgramData\\Anaconda3\\lib\\site-packages\\sklearn\\svm\\base.py:931: ConvergenceWarning: Liblinear failed to converge, increase the number of iterations.\n",
      "  \"the number of iterations.\", ConvergenceWarning)\n"
     ]
    },
    {
     "data": {
      "text/plain": [
       "array([1., 1., 1., 0., 0., 1., 1., 0., 1., 1., 1., 0., 1., 1., 1., 1., 1.,\n",
       "       0., 1., 1., 0., 1., 0., 1., 1., 1., 0., 0., 1., 1., 1., 0., 1., 0.,\n",
       "       1., 1., 0., 0., 1., 1., 1., 1., 1.])"
      ]
     },
     "execution_count": 50,
     "metadata": {},
     "output_type": "execute_result"
    }
   ],
   "source": [
    "SVM = svm.LinearSVC()  \n",
    "SVM.fit(X_train, y_train)  \n",
    "SVM.predict(X_test) "
   ]
  },
  {
   "cell_type": "code",
   "execution_count": 52,
   "metadata": {},
   "outputs": [
    {
     "name": "stdout",
     "output_type": "stream",
     "text": [
      "0.0-1.0 \n",
      "\n",
      "0.0-1.0 \n",
      "\n",
      "0.0-1.0 \n",
      "\n",
      "1.0-0.0 \n",
      "\n",
      "1.0-0.0 \n",
      "\n",
      "1.0-1.0  well done! \n",
      "\n",
      "0.0-1.0 \n",
      "\n",
      "0.0-0.0  well done! \n",
      "\n",
      "1.0-1.0  well done! \n",
      "\n",
      "0.0-1.0 \n",
      "\n",
      "0.0-1.0 \n",
      "\n",
      "0.0-0.0  well done! \n",
      "\n",
      "1.0-1.0  well done! \n",
      "\n",
      "0.0-1.0 \n",
      "\n",
      "0.0-1.0 \n",
      "\n",
      "0.0-1.0 \n",
      "\n",
      "0.0-1.0 \n",
      "\n",
      "1.0-0.0 \n",
      "\n",
      "0.0-1.0 \n",
      "\n",
      "0.0-1.0 \n",
      "\n",
      "1.0-0.0 \n",
      "\n",
      "0.0-1.0 \n",
      "\n",
      "1.0-0.0 \n",
      "\n",
      "1.0-1.0  well done! \n",
      "\n",
      "1.0-1.0  well done! \n",
      "\n",
      "1.0-1.0  well done! \n",
      "\n",
      "1.0-0.0 \n",
      "\n",
      "0.0-0.0  well done! \n",
      "\n",
      "0.0-1.0 \n",
      "\n",
      "1.0-1.0  well done! \n",
      "\n",
      "1.0-1.0  well done! \n",
      "\n",
      "1.0-0.0 \n",
      "\n",
      "1.0-1.0  well done! \n",
      "\n",
      "0.0-0.0  well done! \n",
      "\n",
      "0.0-1.0 \n",
      "\n",
      "1.0-1.0  well done! \n",
      "\n",
      "0.0-0.0  well done! \n",
      "\n",
      "1.0-0.0 \n",
      "\n",
      "0.0-1.0 \n",
      "\n",
      "1.0-1.0  well done! \n",
      "\n",
      "1.0-1.0  well done! \n",
      "\n",
      "1.0-1.0  well done! \n",
      "\n",
      "0.0-1.0 \n",
      "\n"
     ]
    }
   ],
   "source": [
    "for i in range(len(y_test)):\n",
    "    print(y_test.reset_index(drop=True)[i],end= \"-\")\n",
    "    print(SVM.predict(X_test)[i], end=' ')\n",
    "    if SVM.predict(X_test)[i]==y_test.reset_index(drop=True)[i]:\n",
    "        print(' well done! \\n')\n",
    "    else:\n",
    "        print('\\n')"
   ]
  },
  {
   "cell_type": "markdown",
   "metadata": {},
   "source": [
    "# Support vector machine \n",
    "## on Feeling"
   ]
  },
  {
   "cell_type": "code",
   "execution_count": 61,
   "metadata": {},
   "outputs": [
    {
     "name": "stderr",
     "output_type": "stream",
     "text": [
      "C:\\ProgramData\\Anaconda3\\lib\\site-packages\\sklearn\\svm\\base.py:196: FutureWarning: The default value of gamma will change from 'auto' to 'scale' in version 0.22 to account better for unscaled features. Set gamma explicitly to 'auto' or 'scale' to avoid this warning.\n",
      "  \"avoid this warning.\", FutureWarning)\n"
     ]
    },
    {
     "data": {
      "text/plain": [
       "array([3, 3, 3, 3, 3, 3, 3, 3, 3, 3, 3, 3, 3, 3, 3, 3, 3, 3, 3, 3, 3, 3,\n",
       "       3, 3, 3, 3, 3, 3, 3, 3, 3, 3, 3, 3, 3, 3, 3, 3, 3, 3, 3, 3, 3])"
      ]
     },
     "execution_count": 61,
     "metadata": {},
     "output_type": "execute_result"
    }
   ],
   "source": [
    "SVM = svm.SVC(decision_function_shape=\"ovo\")  \n",
    "SVM.fit(X_train, y_train)  \n",
    "SVM.predict(X_test) "
   ]
  },
  {
   "cell_type": "code",
   "execution_count": 62,
   "metadata": {},
   "outputs": [
    {
     "name": "stdout",
     "output_type": "stream",
     "text": [
      "3-3  well done! \n",
      "\n",
      "3-3  well done! \n",
      "\n",
      "3-3  well done! \n",
      "\n",
      "1-3 \n",
      "\n",
      "3-3  well done! \n",
      "\n",
      "1-3 \n",
      "\n",
      "3-3  well done! \n",
      "\n",
      "1-3 \n",
      "\n",
      "3-3  well done! \n",
      "\n",
      "3-3  well done! \n",
      "\n",
      "2-3 \n",
      "\n",
      "1-3 \n",
      "\n",
      "0-3 \n",
      "\n",
      "0-3 \n",
      "\n",
      "3-3  well done! \n",
      "\n",
      "0-3 \n",
      "\n",
      "2-3 \n",
      "\n",
      "0-3 \n",
      "\n",
      "1-3 \n",
      "\n",
      "2-3 \n",
      "\n",
      "1-3 \n",
      "\n",
      "1-3 \n",
      "\n",
      "3-3  well done! \n",
      "\n",
      "3-3  well done! \n",
      "\n",
      "3-3  well done! \n",
      "\n",
      "3-3  well done! \n",
      "\n",
      "3-3  well done! \n",
      "\n",
      "3-3  well done! \n",
      "\n",
      "1-3 \n",
      "\n",
      "0-3 \n",
      "\n",
      "1-3 \n",
      "\n",
      "1-3 \n",
      "\n",
      "3-3  well done! \n",
      "\n",
      "3-3  well done! \n",
      "\n",
      "1-3 \n",
      "\n",
      "3-3  well done! \n",
      "\n",
      "3-3  well done! \n",
      "\n",
      "1-3 \n",
      "\n",
      "3-3  well done! \n",
      "\n",
      "3-3  well done! \n",
      "\n",
      "3-3  well done! \n",
      "\n",
      "2-3 \n",
      "\n",
      "2-3 \n",
      "\n"
     ]
    }
   ],
   "source": [
    "for i in range(len(y_test)):\n",
    "    print(y_test.reset_index(drop=True)[i],end= \"-\")\n",
    "    print(SVM.predict(X_test)[i], end=' ')\n",
    "    if SVM.predict(X_test)[i]==y_test.reset_index(drop=True)[i]:\n",
    "        print(' well done! \\n')\n",
    "    else:\n",
    "        print('\\n')"
   ]
  },
  {
   "cell_type": "markdown",
   "metadata": {},
   "source": [
    "# Logistic regression\n",
    "## on Gender"
   ]
  },
  {
   "cell_type": "code",
   "execution_count": 53,
   "metadata": {},
   "outputs": [
    {
     "name": "stderr",
     "output_type": "stream",
     "text": [
      "C:\\ProgramData\\Anaconda3\\lib\\site-packages\\sklearn\\linear_model\\logistic.py:758: ConvergenceWarning: lbfgs failed to converge. Increase the number of iterations.\n",
      "  \"of iterations.\", ConvergenceWarning)\n"
     ]
    },
    {
     "data": {
      "text/plain": [
       "array([1., 1., 1., 0., 0., 1., 1., 0., 1., 1., 1., 0., 1., 1., 1., 0., 1.,\n",
       "       0., 1., 1., 0., 1., 0., 1., 1., 1., 0., 0., 1., 1., 1., 0., 1., 0.,\n",
       "       1., 1., 0., 0., 1., 1., 1., 1., 1.])"
      ]
     },
     "execution_count": 53,
     "metadata": {},
     "output_type": "execute_result"
    }
   ],
   "source": [
    "LR = LogisticRegression(random_state=0, solver='lbfgs', multi_class='ovr').fit(X_train, y_train)  \n",
    "LR.predict(X_test)  "
   ]
  },
  {
   "cell_type": "code",
   "execution_count": 54,
   "metadata": {},
   "outputs": [
    {
     "name": "stdout",
     "output_type": "stream",
     "text": [
      "0.0-1.0 \n",
      "\n",
      "0.0-1.0 \n",
      "\n",
      "0.0-1.0 \n",
      "\n",
      "1.0-0.0 \n",
      "\n",
      "1.0-0.0 \n",
      "\n",
      "1.0-1.0  well done! \n",
      "\n",
      "0.0-1.0 \n",
      "\n",
      "0.0-0.0  well done! \n",
      "\n",
      "1.0-1.0  well done! \n",
      "\n",
      "0.0-1.0 \n",
      "\n",
      "0.0-1.0 \n",
      "\n",
      "0.0-0.0  well done! \n",
      "\n",
      "1.0-1.0  well done! \n",
      "\n",
      "0.0-1.0 \n",
      "\n",
      "0.0-1.0 \n",
      "\n",
      "0.0-0.0  well done! \n",
      "\n",
      "0.0-1.0 \n",
      "\n",
      "1.0-0.0 \n",
      "\n",
      "0.0-1.0 \n",
      "\n",
      "0.0-1.0 \n",
      "\n",
      "1.0-0.0 \n",
      "\n",
      "0.0-1.0 \n",
      "\n",
      "1.0-0.0 \n",
      "\n",
      "1.0-1.0  well done! \n",
      "\n",
      "1.0-1.0  well done! \n",
      "\n",
      "1.0-1.0  well done! \n",
      "\n",
      "1.0-0.0 \n",
      "\n",
      "0.0-0.0  well done! \n",
      "\n",
      "0.0-1.0 \n",
      "\n",
      "1.0-1.0  well done! \n",
      "\n",
      "1.0-1.0  well done! \n",
      "\n",
      "1.0-0.0 \n",
      "\n",
      "1.0-1.0  well done! \n",
      "\n",
      "0.0-0.0  well done! \n",
      "\n",
      "0.0-1.0 \n",
      "\n",
      "1.0-1.0  well done! \n",
      "\n",
      "0.0-0.0  well done! \n",
      "\n",
      "1.0-0.0 \n",
      "\n",
      "0.0-1.0 \n",
      "\n",
      "1.0-1.0  well done! \n",
      "\n",
      "1.0-1.0  well done! \n",
      "\n",
      "1.0-1.0  well done! \n",
      "\n",
      "0.0-1.0 \n",
      "\n"
     ]
    }
   ],
   "source": [
    "for i in range(len(y_test)):\n",
    "    print(y_test.reset_index(drop=True)[i],end= \"-\")\n",
    "    print(LR.predict(X_test)[i], end=' ')\n",
    "    if LR.predict(X_test)[i]==y_test.reset_index(drop=True)[i]:\n",
    "        print(' well done! \\n')\n",
    "    else:\n",
    "        print('\\n')"
   ]
  },
  {
   "cell_type": "markdown",
   "metadata": {},
   "source": [
    "# Logistic regression\n",
    "## on Feeling"
   ]
  },
  {
   "cell_type": "code",
   "execution_count": 63,
   "metadata": {},
   "outputs": [
    {
     "name": "stderr",
     "output_type": "stream",
     "text": [
      "C:\\ProgramData\\Anaconda3\\lib\\site-packages\\sklearn\\linear_model\\logistic.py:758: ConvergenceWarning: lbfgs failed to converge. Increase the number of iterations.\n",
      "  \"of iterations.\", ConvergenceWarning)\n"
     ]
    },
    {
     "data": {
      "text/plain": [
       "array([3, 0, 3, 3, 3, 2, 1, 1, 1, 0, 1, 3, 1, 3, 2, 3, 0, 2, 3, 3, 2, 3,\n",
       "       3, 1, 1, 3, 0, 1, 3, 1, 0, 3, 3, 3, 3, 2, 2, 3, 3, 3, 3, 3, 2])"
      ]
     },
     "execution_count": 63,
     "metadata": {},
     "output_type": "execute_result"
    }
   ],
   "source": [
    "LR = LogisticRegression(random_state=0, solver='lbfgs', multi_class='multinomial').fit(X_train, y_train)  \n",
    "LR.predict(X_test)"
   ]
  },
  {
   "cell_type": "code",
   "execution_count": 64,
   "metadata": {},
   "outputs": [
    {
     "name": "stdout",
     "output_type": "stream",
     "text": [
      "3-3 well done! \n",
      "\n",
      "3-0\n",
      "\n",
      "3-3 well done! \n",
      "\n",
      "1-3\n",
      "\n",
      "3-3 well done! \n",
      "\n",
      "1-2\n",
      "\n",
      "3-1\n",
      "\n",
      "1-1 well done! \n",
      "\n",
      "3-1\n",
      "\n",
      "3-0\n",
      "\n",
      "2-1\n",
      "\n",
      "1-3\n",
      "\n",
      "0-1\n",
      "\n",
      "0-3\n",
      "\n",
      "3-2\n",
      "\n",
      "0-3\n",
      "\n",
      "2-0\n",
      "\n",
      "0-2\n",
      "\n",
      "1-3\n",
      "\n",
      "2-3\n",
      "\n",
      "1-2\n",
      "\n",
      "1-3\n",
      "\n",
      "3-3 well done! \n",
      "\n",
      "3-1\n",
      "\n",
      "3-1\n",
      "\n",
      "3-3 well done! \n",
      "\n",
      "3-0\n",
      "\n",
      "3-1\n",
      "\n",
      "1-3\n",
      "\n",
      "0-1\n",
      "\n",
      "1-0\n",
      "\n",
      "1-3\n",
      "\n",
      "3-3 well done! \n",
      "\n",
      "3-3 well done! \n",
      "\n",
      "1-3\n",
      "\n",
      "3-2\n",
      "\n",
      "3-2\n",
      "\n",
      "1-3\n",
      "\n",
      "3-3 well done! \n",
      "\n",
      "3-3 well done! \n",
      "\n",
      "3-3 well done! \n",
      "\n",
      "2-3\n",
      "\n",
      "2-2 well done! \n",
      "\n"
     ]
    }
   ],
   "source": [
    "for i in range(len(y_test)):\n",
    "    print(y_test.reset_index(drop=True)[i],end= \"-\")\n",
    "    print(LR.predict(X_test)[i], end='')\n",
    "    if LR.predict(X_test)[i]==y_test.reset_index(drop=True)[i]:\n",
    "        print(' well done! \\n')\n",
    "    else:\n",
    "        print('\\n')"
   ]
  },
  {
   "cell_type": "markdown",
   "metadata": {},
   "source": [
    "# Clustering"
   ]
  },
  {
   "cell_type": "code",
   "execution_count": 22,
   "metadata": {},
   "outputs": [],
   "source": [
    "##set the kmean model\n",
    "kmeans = KMeans(init='k-means++', n_init=10, n_clusters=2, random_state=0).fit(list(result[\"Db\"]))"
   ]
  },
  {
   "cell_type": "code",
   "execution_count": 23,
   "metadata": {},
   "outputs": [
    {
     "name": "stdout",
     "output_type": "stream",
     "text": [
      "[0] 1.0\n",
      "[0] 0.0\n",
      "[0] 1.0\n",
      "[0] 1.0\n",
      "[0] 0.0\n",
      "[0] 0.0\n",
      "[0] 1.0\n",
      "[0] 0.0\n",
      "[0] 0.0\n",
      "[0] 1.0\n",
      "[0] 0.0\n",
      "[0] 1.0\n",
      "[0] 1.0\n",
      "[0] 1.0\n",
      "[0] 1.0\n",
      "[0] 1.0\n",
      "[0] 0.0\n",
      "[0] 0.0\n",
      "[0] 1.0\n",
      "[0] 0.0\n",
      "[0] 0.0\n",
      "[0] 1.0\n",
      "[0] 1.0\n",
      "[0] 0.0\n",
      "[0] 0.0\n",
      "[0] 1.0\n",
      "[0] 0.0\n",
      "[0] 0.0\n",
      "[0] 1.0\n",
      "[0] 1.0\n",
      "[0] 1.0\n",
      "[0] 1.0\n",
      "[0] 1.0\n",
      "[0] 1.0\n",
      "[0] 0.0\n",
      "[0] 0.0\n",
      "[0] 0.0\n",
      "[0] 0.0\n",
      "[0] 0.0\n",
      "[0] 0.0\n",
      "[0] 0.0\n",
      "[0] 1.0\n",
      "[0] 1.0\n",
      "[0] 1.0\n",
      "[0] 1.0\n",
      "[0] 1.0\n",
      "[0] 1.0\n",
      "[0] 0.0\n",
      "[0] 0.0\n",
      "[0] 0.0\n",
      "[0] 1.0\n",
      "[0] 1.0\n",
      "[0] 1.0\n",
      "[0] 1.0\n",
      "[0] 0.0\n",
      "[0] 0.0\n",
      "[0] 1.0\n",
      "[0] 1.0\n",
      "[0] 1.0\n",
      "[0] 1.0\n",
      "[0] 1.0\n",
      "[0] 1.0\n",
      "[0] 1.0\n",
      "[0] 1.0\n",
      "[0] 1.0\n",
      "[0] 1.0\n",
      "[0] 1.0\n",
      "[0] 0.0\n",
      "[0] 1.0\n",
      "[0] 0.0\n",
      "[0] 1.0\n",
      "[0] 0.0\n",
      "[0] 1.0\n",
      "[0] 0.0\n",
      "[0] 0.0\n",
      "[0] 0.0\n",
      "[0] 0.0\n",
      "[0] 0.0\n",
      "[0] 0.0\n",
      "[0] 0.0\n",
      "[0] 1.0\n",
      "[0] 1.0\n",
      "[0] 0.0\n",
      "[0] 0.0\n",
      "[0] 0.0\n",
      "[0] 0.0\n",
      "[0] 0.0\n",
      "[0] 0.0\n",
      "[0] 0.0\n",
      "[0] 0.0\n",
      "[0] 1.0\n",
      "[0] 1.0\n",
      "[0] 0.0\n",
      "[0] 0.0\n",
      "[0] 0.0\n",
      "[0] 0.0\n",
      "[0] 0.0\n",
      "[0] 0.0\n",
      "[0] 0.0\n",
      "[0] 0.0\n",
      "[0] 0.0\n",
      "[0] 0.0\n",
      "[0] 0.0\n",
      "[0] 0.0\n",
      "[0] 0.0\n",
      "[0] 0.0\n",
      "[0] 0.0\n",
      "[0] 0.0\n",
      "[0] 1.0\n",
      "[0] 1.0\n",
      "[0] 1.0\n",
      "[0] 1.0\n",
      "[0] 1.0\n",
      "[0] 1.0\n",
      "[0] 0.0\n",
      "[0] 1.0\n",
      "[0] 1.0\n",
      "[0] 1.0\n",
      "[0] 1.0\n",
      "[0] 1.0\n",
      "[0] 1.0\n",
      "[0] 1.0\n",
      "[0] 1.0\n",
      "[0] 0.0\n",
      "[0] 1.0\n",
      "[0] 1.0\n",
      "[0] 1.0\n",
      "[0] 0.0\n",
      "[0] 0.0\n",
      "[0] 0.0\n",
      "65/130\n"
     ]
    }
   ],
   "source": [
    "##predict the gender from Db for each line in the matrix\n",
    "count=0 #to count how many times it's right\n",
    "for i in range(len(result)):\n",
    "    pred=kmeans.predict(list([result[\"Hz\"][i]])) #say in which cluster is the datapoint db, i\n",
    "    true=result[\"Male\"][i] #the true Male value of line i \n",
    "    \n",
    "    print(str(pred)+\" \"+str(true))\n",
    "    if pred==true: #if he get the real value\n",
    "        count+=1\n",
    "print(str(count)+\"/\"+str(len(result)))     #print how many times it predict  "
   ]
  },
  {
   "cell_type": "markdown",
   "metadata": {},
   "source": [
    "## Boolean encoding"
   ]
  },
  {
   "cell_type": "code",
   "execution_count": 24,
   "metadata": {},
   "outputs": [
    {
     "data": {
      "text/plain": [
       "\"#let's now encode the cathegorical variables\\ntoAdd=pd.get_dummies(result['Person']).reset_index(drop=True)\\nresult=pd.concat([result,toAdd], axis=1, sort=False)\\n\\ntoAdd=pd.get_dummies(result['Feeling']).reset_index(drop=True)\\nresult=pd.concat([result,toAdd], axis=1, sort=False)\\n\\nresult=result.drop(['Person','Feeling'],axis=1)\""
      ]
     },
     "execution_count": 24,
     "metadata": {},
     "output_type": "execute_result"
    }
   ],
   "source": [
    "\"\"\"#let's now encode the cathegorical variables\n",
    "toAdd=pd.get_dummies(result['Person']).reset_index(drop=True)\n",
    "result=pd.concat([result,toAdd], axis=1, sort=False)\n",
    "\n",
    "toAdd=pd.get_dummies(result['Feeling']).reset_index(drop=True)\n",
    "result=pd.concat([result,toAdd], axis=1, sort=False)\n",
    "\n",
    "result=result.drop(['Person','Feeling'],axis=1)\"\"\""
   ]
  },
  {
   "cell_type": "code",
   "execution_count": 25,
   "metadata": {},
   "outputs": [
    {
     "data": {
      "text/plain": [
       "'result.head()'"
      ]
     },
     "execution_count": 25,
     "metadata": {},
     "output_type": "execute_result"
    }
   ],
   "source": [
    "\"\"\"result.head()\"\"\""
   ]
  },
  {
   "cell_type": "code",
   "execution_count": 26,
   "metadata": {},
   "outputs": [
    {
     "data": {
      "text/plain": [
       "'#Create a new matrix 26x123x2 in which we have\\n#26 lines--->the number of records\\n#123 cols--->the pitch&Db recorded by SJapp\\n#2 elements for each cell---> Db, Hz\\nnewVec=[]#gonna be our final result\\nfor i in range(len(result)):\\n    temp=[]#gonna have 26 of this\\n    for k in range(len(result[\"Db\"][i])):#fill our temp with a 123x2 matrix\\n        d=result[\"Db\"][i][k]\\n        h=result[\"Hz\"][i][k]\\n        temp.append([d,h])#for each cycle it writes a cell with 2 values (db,hz)\\n    newVec.append(temp)\\nnewVec'"
      ]
     },
     "execution_count": 26,
     "metadata": {},
     "output_type": "execute_result"
    }
   ],
   "source": [
    "\"\"\"#Create a new matrix 26x123x2 in which we have\n",
    "#26 lines--->the number of records\n",
    "#123 cols--->the pitch&Db recorded by SJapp\n",
    "#2 elements for each cell---> Db, Hz\n",
    "newVec=[]#gonna be our final result\n",
    "for i in range(len(result)):\n",
    "    temp=[]#gonna have 26 of this\n",
    "    for k in range(len(result[\"Db\"][i])):#fill our temp with a 123x2 matrix\n",
    "        d=result[\"Db\"][i][k]\n",
    "        h=result[\"Hz\"][i][k]\n",
    "        temp.append([d,h])#for each cycle it writes a cell with 2 values (db,hz)\n",
    "    newVec.append(temp)\n",
    "newVec\"\"\""
   ]
  },
  {
   "cell_type": "code",
   "execution_count": 27,
   "metadata": {},
   "outputs": [
    {
     "data": {
      "text/plain": [
       "'#trying to do with Hz and Db toghether\\nkmeans = KMeans(n_clusters=2, random_state=0).fit(newVec)'"
      ]
     },
     "execution_count": 27,
     "metadata": {},
     "output_type": "execute_result"
    }
   ],
   "source": [
    "\"\"\"#trying to do with Hz and Db toghether\n",
    "kmeans = KMeans(n_clusters=2, random_state=0).fit(newVec)\"\"\""
   ]
  },
  {
   "cell_type": "code",
   "execution_count": 28,
   "metadata": {},
   "outputs": [
    {
     "data": {
      "text/plain": [
       "'count=0\\nfor i in range(len(result)):\\n    pred=kmeans.predict(list([result[\"Hz\"][i]+result[\"Db\"][i]]))\\n    true=result[\"Male\"][i]\\n    \\n    print(str(pred)+\" \"+str(true))\\n    if pred==true:\\n        count+=1\\nprint(str(count)+\"/\"+str(len(result)))'"
      ]
     },
     "execution_count": 28,
     "metadata": {},
     "output_type": "execute_result"
    }
   ],
   "source": [
    "\"\"\"count=0\n",
    "for i in range(len(result)):\n",
    "    pred=kmeans.predict(list([result[\"Hz\"][i]+result[\"Db\"][i]]))\n",
    "    true=result[\"Male\"][i]\n",
    "    \n",
    "    print(str(pred)+\" \"+str(true))\n",
    "    if pred==true:\n",
    "        count+=1\n",
    "print(str(count)+\"/\"+str(len(result)))\"\"\"      "
   ]
  },
  {
   "cell_type": "code",
   "execution_count": 29,
   "metadata": {},
   "outputs": [
    {
     "data": {
      "text/plain": [
       "'###change the values 0 in pitch with the mean \\n#NOT NECESSARY! DON\\'T RUN IT\\nfor i in range(len(result)):\\n    for k in range(len(result[\"Hz\"][i])):\\n        if result[\"Hz\"][i][k]==0:\\n            result[\"Hz\"][i][k]=mean(result[\"Hz\"][i])'"
      ]
     },
     "execution_count": 29,
     "metadata": {},
     "output_type": "execute_result"
    }
   ],
   "source": [
    "\"\"\"###change the values 0 in pitch with the mean \n",
    "#NOT NECESSARY! DON'T RUN IT\n",
    "for i in range(len(result)):\n",
    "    for k in range(len(result[\"Hz\"][i])):\n",
    "        if result[\"Hz\"][i][k]==0:\n",
    "            result[\"Hz\"][i][k]=mean(result[\"Hz\"][i])\"\"\""
   ]
  }
 ],
 "metadata": {
  "kernelspec": {
   "display_name": "Python 3",
   "language": "python",
   "name": "python3"
  },
  "language_info": {
   "codemirror_mode": {
    "name": "ipython",
    "version": 3
   },
   "file_extension": ".py",
   "mimetype": "text/x-python",
   "name": "python",
   "nbconvert_exporter": "python",
   "pygments_lexer": "ipython3",
   "version": "3.7.3"
  }
 },
 "nbformat": 4,
 "nbformat_minor": 2
}
