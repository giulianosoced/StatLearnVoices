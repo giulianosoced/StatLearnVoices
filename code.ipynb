{
 "cells": [
  {
   "cell_type": "code",
   "execution_count": 1,
   "metadata": {},
   "outputs": [],
   "source": [
    "import pandas as pd\n",
    "import csv\n",
    "import os, os.path\n",
    "from sklearn.preprocessing import LabelEncoder\n",
    "import sklearn as sk  \n",
    "from sklearn.ensemble import RandomForestClassifier\n",
    "from sklearn import svm  \n",
    "from sklearn.linear_model import LogisticRegression \n",
    "from sklearn.cluster import KMeans\n",
    "from statistics import mean\n",
    "from sklearn.model_selection import train_test_split\n",
    "from sklearn.cluster import SpectralClustering\n",
    "from sklearn.neural_network import MLPClassifier\n",
    "\n",
    "# import numpy as np\n",
    "# from sklearn import preprocessing\n",
    "# import matplotlib.pyplot as plt \n",
    "# import seaborn as sns\n",
    "# from numpy import array\n"
   ]
  },
  {
   "cell_type": "code",
   "execution_count": 2,
   "metadata": {},
   "outputs": [],
   "source": [
    "#creating my dataframe\n",
    "mydata=pd.DataFrame({\"Db\": [], \"Hz\": []})\n",
    "labels=pd.DataFrame({\"Male\": [], \"Feeling\": [], \"Person\":[]})"
   ]
  },
  {
   "cell_type": "code",
   "execution_count": 3,
   "metadata": {},
   "outputs": [],
   "source": [
    "students=['\\\\mario','\\\\giuliano','\\\\cristina'] #directory of records of each student\n",
    "for i in students:\n",
    "    \n",
    "    cwd = os.getcwd() #current working directory\n",
    "    sd = cwd + str(i) #student directory\n",
    "    lab = pd.read_csv(str(sd)+'\\\\labels.csv', sep=';') #read the labels file\n",
    "    labels=pd.concat([labels,lab], ignore_index=True)\n",
    "    \n",
    "    for k in range(1,len(os.listdir(sd))): #runs the cycle with respect to number of records for each student\n",
    "        \n",
    "        read = pd.read_csv(str(sd)+'\\\\sl Registrazione '+str(k)+'.csv', sep = ',') #read data  \n",
    "        \n",
    "        Db=read[\"DecibelSource\"].dropna()  #clean from NAs\n",
    "        Hz=read[\"PitchSensor\"].dropna()    \n",
    "        \n",
    "        Db=list(Db)#make them to list to easier work later\n",
    "        Hz=list(Hz)\n",
    "        \n",
    "        mydata=mydata.append({'Db' : Db , 'Hz' : Hz} , ignore_index=True)\n",
    "\n",
    "    \n",
    "result=pd.concat([mydata,labels], sort=False, axis=1) #merge labels and data"
   ]
  },
  {
   "cell_type": "code",
   "execution_count": 4,
   "metadata": {
    "scrolled": false
   },
   "outputs": [
    {
     "data": {
      "text/html": [
       "<div>\n",
       "<style scoped>\n",
       "    .dataframe tbody tr th:only-of-type {\n",
       "        vertical-align: middle;\n",
       "    }\n",
       "\n",
       "    .dataframe tbody tr th {\n",
       "        vertical-align: top;\n",
       "    }\n",
       "\n",
       "    .dataframe thead th {\n",
       "        text-align: right;\n",
       "    }\n",
       "</style>\n",
       "<table border=\"1\" class=\"dataframe\">\n",
       "  <thead>\n",
       "    <tr style=\"text-align: right;\">\n",
       "      <th></th>\n",
       "      <th>Db</th>\n",
       "      <th>Hz</th>\n",
       "      <th>Male</th>\n",
       "      <th>Feeling</th>\n",
       "      <th>Person</th>\n",
       "    </tr>\n",
       "  </thead>\n",
       "  <tbody>\n",
       "    <tr>\n",
       "      <th>0</th>\n",
       "      <td>[51.509708077318315, 49.206463639207875, 53.09...</td>\n",
       "      <td>[83.5404052734375, 83.5404052734375, 83.540405...</td>\n",
       "      <td>1.0</td>\n",
       "      <td>angry</td>\n",
       "      <td>other</td>\n",
       "    </tr>\n",
       "    <tr>\n",
       "      <th>1</th>\n",
       "      <td>[55.10859961906438, 51.864688959738814, 51.652...</td>\n",
       "      <td>[291.0975477430556, 331.6312255859375, 331.631...</td>\n",
       "      <td>0.0</td>\n",
       "      <td>happy</td>\n",
       "      <td>other</td>\n",
       "    </tr>\n",
       "    <tr>\n",
       "      <th>2</th>\n",
       "      <td>[29.52738094783193, 27.660100580824576, 25.288...</td>\n",
       "      <td>[268.5400390625, 230.9423828125, 230.942382812...</td>\n",
       "      <td>1.0</td>\n",
       "      <td>steady</td>\n",
       "      <td>other</td>\n",
       "    </tr>\n",
       "    <tr>\n",
       "      <th>3</th>\n",
       "      <td>[33.119446531464924, 28.733594908973828, 33.64...</td>\n",
       "      <td>[419.1162109375, 419.1162109375, 419.116210937...</td>\n",
       "      <td>1.0</td>\n",
       "      <td>sad</td>\n",
       "      <td>other</td>\n",
       "    </tr>\n",
       "    <tr>\n",
       "      <th>4</th>\n",
       "      <td>[19.45318383545405, 18.038502361992837, 16.372...</td>\n",
       "      <td>[0.0, 0.0, 0.0, 0.0, 0.0, 0.0, 0.0, 339.233398...</td>\n",
       "      <td>0.0</td>\n",
       "      <td>angry</td>\n",
       "      <td>other</td>\n",
       "    </tr>\n",
       "  </tbody>\n",
       "</table>\n",
       "</div>"
      ],
      "text/plain": [
       "                                                  Db  \\\n",
       "0  [51.509708077318315, 49.206463639207875, 53.09...   \n",
       "1  [55.10859961906438, 51.864688959738814, 51.652...   \n",
       "2  [29.52738094783193, 27.660100580824576, 25.288...   \n",
       "3  [33.119446531464924, 28.733594908973828, 33.64...   \n",
       "4  [19.45318383545405, 18.038502361992837, 16.372...   \n",
       "\n",
       "                                                  Hz  Male Feeling  Person  \n",
       "0  [83.5404052734375, 83.5404052734375, 83.540405...   1.0   angry   other  \n",
       "1  [291.0975477430556, 331.6312255859375, 331.631...   0.0   happy   other  \n",
       "2  [268.5400390625, 230.9423828125, 230.942382812...   1.0  steady  other   \n",
       "3  [419.1162109375, 419.1162109375, 419.116210937...   1.0     sad   other  \n",
       "4  [0.0, 0.0, 0.0, 0.0, 0.0, 0.0, 0.0, 339.233398...   0.0   angry   other  "
      ]
     },
     "execution_count": 4,
     "metadata": {},
     "output_type": "execute_result"
    }
   ],
   "source": [
    "result.head()"
   ]
  },
  {
   "cell_type": "markdown",
   "metadata": {},
   "source": [
    "# Cleaning"
   ]
  },
  {
   "cell_type": "code",
   "execution_count": 5,
   "metadata": {},
   "outputs": [
    {
     "name": "stdout",
     "output_type": "stream",
     "text": [
      "{'other ', 'other', 'giuliano', 'mario', 'cristina'}\n",
      "{'happy ', 'serious', 'angry', 'happy', 'sad ', 'sad', 'steady'}\n"
     ]
    }
   ],
   "source": [
    "#see if there are problem with classes\n",
    "print(set(result.Person))\n",
    "print(set(result.Feeling))"
   ]
  },
  {
   "cell_type": "code",
   "execution_count": 6,
   "metadata": {},
   "outputs": [
    {
     "name": "stderr",
     "output_type": "stream",
     "text": [
      "C:\\ProgramData\\Anaconda3\\lib\\site-packages\\ipykernel_launcher.py:8: SettingWithCopyWarning: \n",
      "A value is trying to be set on a copy of a slice from a DataFrame\n",
      "\n",
      "See the caveats in the documentation: http://pandas.pydata.org/pandas-docs/stable/indexing.html#indexing-view-versus-copy\n",
      "  \n",
      "C:\\ProgramData\\Anaconda3\\lib\\site-packages\\ipykernel_launcher.py:4: SettingWithCopyWarning: \n",
      "A value is trying to be set on a copy of a slice from a DataFrame\n",
      "\n",
      "See the caveats in the documentation: http://pandas.pydata.org/pandas-docs/stable/indexing.html#indexing-view-versus-copy\n",
      "  after removing the cwd from sys.path.\n",
      "C:\\ProgramData\\Anaconda3\\lib\\site-packages\\ipykernel_launcher.py:10: SettingWithCopyWarning: \n",
      "A value is trying to be set on a copy of a slice from a DataFrame\n",
      "\n",
      "See the caveats in the documentation: http://pandas.pydata.org/pandas-docs/stable/indexing.html#indexing-view-versus-copy\n",
      "  # Remove the CWD from sys.path while we load stuff.\n",
      "C:\\ProgramData\\Anaconda3\\lib\\site-packages\\ipykernel_launcher.py:6: SettingWithCopyWarning: \n",
      "A value is trying to be set on a copy of a slice from a DataFrame\n",
      "\n",
      "See the caveats in the documentation: http://pandas.pydata.org/pandas-docs/stable/indexing.html#indexing-view-versus-copy\n",
      "  \n"
     ]
    }
   ],
   "source": [
    "#fix them\n",
    "for i in range(len(result)):\n",
    "    if result['Feeling'][i]=='happy ':\n",
    "        result['Feeling'][i]='happy'\n",
    "    if result['Feeling'][i]=='serious':\n",
    "        result['Feeling'][i]='steady'\n",
    "    if result['Person'][i]=='other ':\n",
    "        result['Person'][i]='other'\n",
    "    if result['Feeling'][i]=='sad ':\n",
    "        result['Feeling'][i]='sad'"
   ]
  },
  {
   "cell_type": "markdown",
   "metadata": {},
   "source": [
    "#### Categorical encoding"
   ]
  },
  {
   "cell_type": "code",
   "execution_count": 7,
   "metadata": {},
   "outputs": [],
   "source": [
    "##transform every cathegorical var into numbers\n",
    "le=LabelEncoder()\n",
    "\n",
    "cat=['Feeling','Person']\n",
    "\n",
    "for i in cat:\n",
    "    result[i]=le.fit_transform(result[i].astype(str))"
   ]
  },
  {
   "cell_type": "code",
   "execution_count": 8,
   "metadata": {},
   "outputs": [
    {
     "data": {
      "text/html": [
       "<div>\n",
       "<style scoped>\n",
       "    .dataframe tbody tr th:only-of-type {\n",
       "        vertical-align: middle;\n",
       "    }\n",
       "\n",
       "    .dataframe tbody tr th {\n",
       "        vertical-align: top;\n",
       "    }\n",
       "\n",
       "    .dataframe thead th {\n",
       "        text-align: right;\n",
       "    }\n",
       "</style>\n",
       "<table border=\"1\" class=\"dataframe\">\n",
       "  <thead>\n",
       "    <tr style=\"text-align: right;\">\n",
       "      <th></th>\n",
       "      <th>Db</th>\n",
       "      <th>Hz</th>\n",
       "      <th>Male</th>\n",
       "      <th>Feeling</th>\n",
       "      <th>Person</th>\n",
       "    </tr>\n",
       "  </thead>\n",
       "  <tbody>\n",
       "    <tr>\n",
       "      <th>0</th>\n",
       "      <td>[51.509708077318315, 49.206463639207875, 53.09...</td>\n",
       "      <td>[83.5404052734375, 83.5404052734375, 83.540405...</td>\n",
       "      <td>1.0</td>\n",
       "      <td>0</td>\n",
       "      <td>3</td>\n",
       "    </tr>\n",
       "    <tr>\n",
       "      <th>1</th>\n",
       "      <td>[55.10859961906438, 51.864688959738814, 51.652...</td>\n",
       "      <td>[291.0975477430556, 331.6312255859375, 331.631...</td>\n",
       "      <td>0.0</td>\n",
       "      <td>1</td>\n",
       "      <td>3</td>\n",
       "    </tr>\n",
       "    <tr>\n",
       "      <th>2</th>\n",
       "      <td>[29.52738094783193, 27.660100580824576, 25.288...</td>\n",
       "      <td>[268.5400390625, 230.9423828125, 230.942382812...</td>\n",
       "      <td>1.0</td>\n",
       "      <td>3</td>\n",
       "      <td>3</td>\n",
       "    </tr>\n",
       "    <tr>\n",
       "      <th>3</th>\n",
       "      <td>[33.119446531464924, 28.733594908973828, 33.64...</td>\n",
       "      <td>[419.1162109375, 419.1162109375, 419.116210937...</td>\n",
       "      <td>1.0</td>\n",
       "      <td>2</td>\n",
       "      <td>3</td>\n",
       "    </tr>\n",
       "    <tr>\n",
       "      <th>4</th>\n",
       "      <td>[19.45318383545405, 18.038502361992837, 16.372...</td>\n",
       "      <td>[0.0, 0.0, 0.0, 0.0, 0.0, 0.0, 0.0, 339.233398...</td>\n",
       "      <td>0.0</td>\n",
       "      <td>0</td>\n",
       "      <td>3</td>\n",
       "    </tr>\n",
       "  </tbody>\n",
       "</table>\n",
       "</div>"
      ],
      "text/plain": [
       "                                                  Db  \\\n",
       "0  [51.509708077318315, 49.206463639207875, 53.09...   \n",
       "1  [55.10859961906438, 51.864688959738814, 51.652...   \n",
       "2  [29.52738094783193, 27.660100580824576, 25.288...   \n",
       "3  [33.119446531464924, 28.733594908973828, 33.64...   \n",
       "4  [19.45318383545405, 18.038502361992837, 16.372...   \n",
       "\n",
       "                                                  Hz  Male  Feeling  Person  \n",
       "0  [83.5404052734375, 83.5404052734375, 83.540405...   1.0        0       3  \n",
       "1  [291.0975477430556, 331.6312255859375, 331.631...   0.0        1       3  \n",
       "2  [268.5400390625, 230.9423828125, 230.942382812...   1.0        3       3  \n",
       "3  [419.1162109375, 419.1162109375, 419.116210937...   1.0        2       3  \n",
       "4  [0.0, 0.0, 0.0, 0.0, 0.0, 0.0, 0.0, 339.233398...   0.0        0       3  "
      ]
     },
     "execution_count": 8,
     "metadata": {},
     "output_type": "execute_result"
    }
   ],
   "source": [
    "result.head()"
   ]
  },
  {
   "cell_type": "code",
   "execution_count": 9,
   "metadata": {},
   "outputs": [
    {
     "name": "stdout",
     "output_type": "stream",
     "text": [
      "69 angry records\n",
      "61 happy records\n",
      "59 sad records\n",
      "76 steady records\n",
      "\n",
      "162 female records\n",
      "103 male records\n"
     ]
    }
   ],
   "source": [
    "#are the feeling balanced?\n",
    "print(str(len(result.loc[result[\"Feeling\"]==0]))+' angry records')\n",
    "print(str(len(result.loc[result[\"Feeling\"]==1]))+' happy records')\n",
    "print(str(len(result.loc[result[\"Feeling\"]==2]))+' sad records')\n",
    "print(str(len(result.loc[result[\"Feeling\"]==3]))+' steady records')\n",
    "print('')\n",
    "print(str(len(result.loc[result[\"Male\"]==0]))+' female records')\n",
    "print(str(len(result.loc[result[\"Male\"]==1]))+' male records')"
   ]
  },
  {
   "cell_type": "code",
   "execution_count": 10,
   "metadata": {},
   "outputs": [],
   "source": [
    "#evaluate mininum len\n",
    "mini=100000000000000000 \n",
    "for i in range(len(result)):\n",
    "    now=len(result[\"Hz\"][i]) #see lenght of first HZ vector\n",
    "#     print(str(i)+ \" \" +str(now)) #print number of vector and his lenght\n",
    "    if now<mini: #see if is the shortest vector\n",
    "        mini=now #if shortest, update minimum value\n",
    "# mini"
   ]
  },
  {
   "cell_type": "code",
   "execution_count": 66,
   "metadata": {},
   "outputs": [],
   "source": [
    "##SOLO UNA PROVA!!! PROVARE AD USARE FRAMMENTI DI REGISTRAZIONE MOLTO PIU PICCOLI\n",
    "# mini=20"
   ]
  },
  {
   "cell_type": "code",
   "execution_count": 67,
   "metadata": {},
   "outputs": [
    {
     "name": "stderr",
     "output_type": "stream",
     "text": [
      "C:\\ProgramData\\Anaconda3\\lib\\site-packages\\ipykernel_launcher.py:4: SettingWithCopyWarning: \n",
      "A value is trying to be set on a copy of a slice from a DataFrame\n",
      "\n",
      "See the caveats in the documentation: http://pandas.pydata.org/pandas-docs/stable/indexing.html#indexing-view-versus-copy\n",
      "  after removing the cwd from sys.path.\n",
      "C:\\ProgramData\\Anaconda3\\lib\\site-packages\\ipykernel_launcher.py:7: SettingWithCopyWarning: \n",
      "A value is trying to be set on a copy of a slice from a DataFrame\n",
      "\n",
      "See the caveats in the documentation: http://pandas.pydata.org/pandas-docs/stable/indexing.html#indexing-view-versus-copy\n",
      "  import sys\n"
     ]
    }
   ],
   "source": [
    "#same len for all\n",
    "\n",
    "for i in range(len(result)):\n",
    "    result[\"Db\"][i]=result[\"Db\"][i][0:mini]\n",
    "\n",
    "for i in range(len(result)):\n",
    "    result[\"Hz\"][i]=result[\"Hz\"][i][0:mini]"
   ]
  },
  {
   "cell_type": "code",
   "execution_count": 12,
   "metadata": {},
   "outputs": [],
   "source": [
    "#selecting only male and female to study their properties\n",
    "male=result.loc[result[\"Male\"]==1]\n",
    "male=male.reset_index(drop=True)  #setting new indexes for the new DF\n",
    "female=result.loc[result[\"Male\"]==0]\n",
    "female=female.reset_index(drop=True)"
   ]
  },
  {
   "cell_type": "code",
   "execution_count": 68,
   "metadata": {},
   "outputs": [
    {
     "name": "stdout",
     "output_type": "stream",
     "text": [
      "mean for DB in male is 45.04\n",
      "mean for HZ in male is 308.47\n",
      "mean for DB in female is 44.38\n",
      "mean for HZ in female is 272.48\n"
     ]
    }
   ],
   "source": [
    "##let's see how the means differs\n",
    "somma=0\n",
    "for i in range(len(male)):\n",
    "    somma+=mean(male[\"Db\"][i])\n",
    "print(\"mean for DB in male is \"+str(round(somma/(len(male)+1),2)))\n",
    "\n",
    "somma=0\n",
    "for i in range(len(male)):\n",
    "    somma+=mean(male[\"Hz\"][i])\n",
    "print(\"mean for HZ in male is \" + str(round(somma/(len(male)+1),2)))\n",
    "\n",
    "##now for female..\n",
    "somma=0\n",
    "for i in range(len(female)):\n",
    "    somma+=mean(female[\"Db\"][i])\n",
    "print(\"mean for DB in female is \"+str(round(somma/(len(female)+1),2)))\n",
    "\n",
    "somma=0\n",
    "for i in range(len(female)):\n",
    "    somma+=mean(female[\"Hz\"][i])\n",
    "print(\"mean for HZ in female is \" +str(round(somma/(len(female)+1),2)))"
   ]
  },
  {
   "cell_type": "markdown",
   "metadata": {},
   "source": [
    "# Modelling"
   ]
  },
  {
   "cell_type": "code",
   "execution_count": 69,
   "metadata": {},
   "outputs": [],
   "source": [
    "#Creating our X matrix\n",
    "cols=['Db','Hz']#selecting only hz and db data\n",
    "mat=[] #empty matrix\n",
    "for c in cols:\n",
    "    for k in range(mini):\n",
    "        l=[] #empty array\n",
    "        for i in range(len(result)):\n",
    "            l.append(result[c][i][k]) #filling the array making it the column we are going to use\n",
    "        mat.append(l) #append our column to the matrix\n",
    "X=pd.DataFrame(mat) #make it a pandas df\n",
    "X=X.T #transpose it\n",
    "X=pd.concat([X,result.Person],axis=1)#add person column"
   ]
  },
  {
   "cell_type": "code",
   "execution_count": 70,
   "metadata": {},
   "outputs": [
    {
     "data": {
      "text/html": [
       "<div>\n",
       "<style scoped>\n",
       "    .dataframe tbody tr th:only-of-type {\n",
       "        vertical-align: middle;\n",
       "    }\n",
       "\n",
       "    .dataframe tbody tr th {\n",
       "        vertical-align: top;\n",
       "    }\n",
       "\n",
       "    .dataframe thead th {\n",
       "        text-align: right;\n",
       "    }\n",
       "</style>\n",
       "<table border=\"1\" class=\"dataframe\">\n",
       "  <thead>\n",
       "    <tr style=\"text-align: right;\">\n",
       "      <th></th>\n",
       "      <th>0</th>\n",
       "      <th>1</th>\n",
       "      <th>2</th>\n",
       "      <th>3</th>\n",
       "      <th>4</th>\n",
       "      <th>5</th>\n",
       "      <th>6</th>\n",
       "      <th>7</th>\n",
       "      <th>8</th>\n",
       "      <th>9</th>\n",
       "      <th>...</th>\n",
       "      <th>31</th>\n",
       "      <th>32</th>\n",
       "      <th>33</th>\n",
       "      <th>34</th>\n",
       "      <th>35</th>\n",
       "      <th>36</th>\n",
       "      <th>37</th>\n",
       "      <th>38</th>\n",
       "      <th>39</th>\n",
       "      <th>Person</th>\n",
       "    </tr>\n",
       "  </thead>\n",
       "  <tbody>\n",
       "    <tr>\n",
       "      <th>0</th>\n",
       "      <td>51.509708</td>\n",
       "      <td>49.206464</td>\n",
       "      <td>53.098951</td>\n",
       "      <td>52.469692</td>\n",
       "      <td>53.167057</td>\n",
       "      <td>52.176484</td>\n",
       "      <td>48.654212</td>\n",
       "      <td>53.256975</td>\n",
       "      <td>52.688264</td>\n",
       "      <td>56.267311</td>\n",
       "      <td>...</td>\n",
       "      <td>407.724609</td>\n",
       "      <td>407.724609</td>\n",
       "      <td>208.979492</td>\n",
       "      <td>208.979492</td>\n",
       "      <td>208.979492</td>\n",
       "      <td>208.979492</td>\n",
       "      <td>211.816406</td>\n",
       "      <td>211.816406</td>\n",
       "      <td>211.816406</td>\n",
       "      <td>3</td>\n",
       "    </tr>\n",
       "    <tr>\n",
       "      <th>1</th>\n",
       "      <td>55.108600</td>\n",
       "      <td>51.864689</td>\n",
       "      <td>51.652674</td>\n",
       "      <td>47.638640</td>\n",
       "      <td>49.127333</td>\n",
       "      <td>48.002193</td>\n",
       "      <td>53.917669</td>\n",
       "      <td>54.711934</td>\n",
       "      <td>54.078948</td>\n",
       "      <td>51.856219</td>\n",
       "      <td>...</td>\n",
       "      <td>49.003855</td>\n",
       "      <td>49.003855</td>\n",
       "      <td>49.003855</td>\n",
       "      <td>93.824463</td>\n",
       "      <td>93.824463</td>\n",
       "      <td>93.824463</td>\n",
       "      <td>93.824463</td>\n",
       "      <td>93.824463</td>\n",
       "      <td>79.567732</td>\n",
       "      <td>3</td>\n",
       "    </tr>\n",
       "    <tr>\n",
       "      <th>2</th>\n",
       "      <td>29.527381</td>\n",
       "      <td>27.660101</td>\n",
       "      <td>25.288264</td>\n",
       "      <td>20.859257</td>\n",
       "      <td>22.952716</td>\n",
       "      <td>26.111523</td>\n",
       "      <td>39.505439</td>\n",
       "      <td>35.678947</td>\n",
       "      <td>34.919236</td>\n",
       "      <td>32.231507</td>\n",
       "      <td>...</td>\n",
       "      <td>0.000000</td>\n",
       "      <td>462.571010</td>\n",
       "      <td>462.571010</td>\n",
       "      <td>462.571010</td>\n",
       "      <td>343.046177</td>\n",
       "      <td>343.046177</td>\n",
       "      <td>343.046177</td>\n",
       "      <td>232.177734</td>\n",
       "      <td>232.177734</td>\n",
       "      <td>3</td>\n",
       "    </tr>\n",
       "    <tr>\n",
       "      <th>3</th>\n",
       "      <td>33.119447</td>\n",
       "      <td>28.733595</td>\n",
       "      <td>33.640379</td>\n",
       "      <td>45.195911</td>\n",
       "      <td>46.322613</td>\n",
       "      <td>38.580593</td>\n",
       "      <td>42.709851</td>\n",
       "      <td>39.776593</td>\n",
       "      <td>30.642523</td>\n",
       "      <td>24.077781</td>\n",
       "      <td>...</td>\n",
       "      <td>257.285156</td>\n",
       "      <td>257.285156</td>\n",
       "      <td>130.504842</td>\n",
       "      <td>130.504842</td>\n",
       "      <td>130.504842</td>\n",
       "      <td>130.504842</td>\n",
       "      <td>130.866648</td>\n",
       "      <td>130.866648</td>\n",
       "      <td>130.866648</td>\n",
       "      <td>3</td>\n",
       "    </tr>\n",
       "    <tr>\n",
       "      <th>4</th>\n",
       "      <td>19.453184</td>\n",
       "      <td>18.038502</td>\n",
       "      <td>16.372480</td>\n",
       "      <td>15.836151</td>\n",
       "      <td>23.020714</td>\n",
       "      <td>23.356387</td>\n",
       "      <td>21.816119</td>\n",
       "      <td>22.132527</td>\n",
       "      <td>21.352715</td>\n",
       "      <td>19.915726</td>\n",
       "      <td>...</td>\n",
       "      <td>419.000244</td>\n",
       "      <td>419.000244</td>\n",
       "      <td>419.000244</td>\n",
       "      <td>419.000244</td>\n",
       "      <td>0.000000</td>\n",
       "      <td>0.000000</td>\n",
       "      <td>0.000000</td>\n",
       "      <td>0.000000</td>\n",
       "      <td>0.000000</td>\n",
       "      <td>3</td>\n",
       "    </tr>\n",
       "  </tbody>\n",
       "</table>\n",
       "<p>5 rows × 41 columns</p>\n",
       "</div>"
      ],
      "text/plain": [
       "           0          1          2          3          4          5  \\\n",
       "0  51.509708  49.206464  53.098951  52.469692  53.167057  52.176484   \n",
       "1  55.108600  51.864689  51.652674  47.638640  49.127333  48.002193   \n",
       "2  29.527381  27.660101  25.288264  20.859257  22.952716  26.111523   \n",
       "3  33.119447  28.733595  33.640379  45.195911  46.322613  38.580593   \n",
       "4  19.453184  18.038502  16.372480  15.836151  23.020714  23.356387   \n",
       "\n",
       "           6          7          8          9  ...          31          32  \\\n",
       "0  48.654212  53.256975  52.688264  56.267311  ...  407.724609  407.724609   \n",
       "1  53.917669  54.711934  54.078948  51.856219  ...   49.003855   49.003855   \n",
       "2  39.505439  35.678947  34.919236  32.231507  ...    0.000000  462.571010   \n",
       "3  42.709851  39.776593  30.642523  24.077781  ...  257.285156  257.285156   \n",
       "4  21.816119  22.132527  21.352715  19.915726  ...  419.000244  419.000244   \n",
       "\n",
       "           33          34          35          36          37          38  \\\n",
       "0  208.979492  208.979492  208.979492  208.979492  211.816406  211.816406   \n",
       "1   49.003855   93.824463   93.824463   93.824463   93.824463   93.824463   \n",
       "2  462.571010  462.571010  343.046177  343.046177  343.046177  232.177734   \n",
       "3  130.504842  130.504842  130.504842  130.504842  130.866648  130.866648   \n",
       "4  419.000244  419.000244    0.000000    0.000000    0.000000    0.000000   \n",
       "\n",
       "           39  Person  \n",
       "0  211.816406       3  \n",
       "1   79.567732       3  \n",
       "2  232.177734       3  \n",
       "3  130.866648       3  \n",
       "4    0.000000       3  \n",
       "\n",
       "[5 rows x 41 columns]"
      ]
     },
     "execution_count": 70,
     "metadata": {},
     "output_type": "execute_result"
    }
   ],
   "source": [
    "X.head()"
   ]
  },
  {
   "cell_type": "markdown",
   "metadata": {},
   "source": [
    "first 123 columns are the decibel records, while other 123 are the pitch record. we just want to add columns with summary of them in order to keep the relationship between values"
   ]
  },
  {
   "cell_type": "code",
   "execution_count": 71,
   "metadata": {},
   "outputs": [],
   "source": [
    "#Adding mean, max, min and SD columns, for DB and for HZ\n",
    "X['dbMean']=X.iloc[:,0:mini].mean(axis=1)\n",
    "X['dbMax']=X.iloc[:,0:mini].max(axis=1)\n",
    "X['dbMin']=X.iloc[:,0:mini].min(axis=1)\n",
    "X['dbSd']=X.iloc[:,0:mini].std(axis=1)\n",
    "\n",
    "X['hzMean']=X.iloc[:,mini:mini*2].mean(axis=1)\n",
    "X['hzMax']=X.iloc[:,mini:mini*2].max(axis=1)\n",
    "X['hzMin']=X.iloc[:,mini:mini*2].min(axis=1)\n",
    "X['hzSd']=X.iloc[:,mini:mini*2].std(axis=1)"
   ]
  },
  {
   "cell_type": "code",
   "execution_count": 72,
   "metadata": {},
   "outputs": [
    {
     "data": {
      "text/html": [
       "<div>\n",
       "<style scoped>\n",
       "    .dataframe tbody tr th:only-of-type {\n",
       "        vertical-align: middle;\n",
       "    }\n",
       "\n",
       "    .dataframe tbody tr th {\n",
       "        vertical-align: top;\n",
       "    }\n",
       "\n",
       "    .dataframe thead th {\n",
       "        text-align: right;\n",
       "    }\n",
       "</style>\n",
       "<table border=\"1\" class=\"dataframe\">\n",
       "  <thead>\n",
       "    <tr style=\"text-align: right;\">\n",
       "      <th></th>\n",
       "      <th>0</th>\n",
       "      <th>1</th>\n",
       "      <th>2</th>\n",
       "      <th>3</th>\n",
       "      <th>4</th>\n",
       "      <th>5</th>\n",
       "      <th>6</th>\n",
       "      <th>7</th>\n",
       "      <th>8</th>\n",
       "      <th>9</th>\n",
       "      <th>...</th>\n",
       "      <th>39</th>\n",
       "      <th>Person</th>\n",
       "      <th>dbMean</th>\n",
       "      <th>dbMax</th>\n",
       "      <th>dbMin</th>\n",
       "      <th>dbSd</th>\n",
       "      <th>hzMean</th>\n",
       "      <th>hzMax</th>\n",
       "      <th>hzMin</th>\n",
       "      <th>hzSd</th>\n",
       "    </tr>\n",
       "  </thead>\n",
       "  <tbody>\n",
       "    <tr>\n",
       "      <th>0</th>\n",
       "      <td>51.509708</td>\n",
       "      <td>49.206464</td>\n",
       "      <td>53.098951</td>\n",
       "      <td>52.469692</td>\n",
       "      <td>53.167057</td>\n",
       "      <td>52.176484</td>\n",
       "      <td>48.654212</td>\n",
       "      <td>53.256975</td>\n",
       "      <td>52.688264</td>\n",
       "      <td>56.267311</td>\n",
       "      <td>...</td>\n",
       "      <td>211.816406</td>\n",
       "      <td>3</td>\n",
       "      <td>50.819216</td>\n",
       "      <td>56.267311</td>\n",
       "      <td>45.391763</td>\n",
       "      <td>2.927105</td>\n",
       "      <td>271.797780</td>\n",
       "      <td>558.574219</td>\n",
       "      <td>83.540405</td>\n",
       "      <td>180.847925</td>\n",
       "    </tr>\n",
       "    <tr>\n",
       "      <th>1</th>\n",
       "      <td>55.108600</td>\n",
       "      <td>51.864689</td>\n",
       "      <td>51.652674</td>\n",
       "      <td>47.638640</td>\n",
       "      <td>49.127333</td>\n",
       "      <td>48.002193</td>\n",
       "      <td>53.917669</td>\n",
       "      <td>54.711934</td>\n",
       "      <td>54.078948</td>\n",
       "      <td>51.856219</td>\n",
       "      <td>...</td>\n",
       "      <td>79.567732</td>\n",
       "      <td>3</td>\n",
       "      <td>53.610306</td>\n",
       "      <td>57.178711</td>\n",
       "      <td>47.638640</td>\n",
       "      <td>2.794113</td>\n",
       "      <td>147.807673</td>\n",
       "      <td>331.631226</td>\n",
       "      <td>34.603928</td>\n",
       "      <td>119.882361</td>\n",
       "    </tr>\n",
       "    <tr>\n",
       "      <th>2</th>\n",
       "      <td>29.527381</td>\n",
       "      <td>27.660101</td>\n",
       "      <td>25.288264</td>\n",
       "      <td>20.859257</td>\n",
       "      <td>22.952716</td>\n",
       "      <td>26.111523</td>\n",
       "      <td>39.505439</td>\n",
       "      <td>35.678947</td>\n",
       "      <td>34.919236</td>\n",
       "      <td>32.231507</td>\n",
       "      <td>...</td>\n",
       "      <td>232.177734</td>\n",
       "      <td>3</td>\n",
       "      <td>32.278234</td>\n",
       "      <td>41.733744</td>\n",
       "      <td>20.859257</td>\n",
       "      <td>5.754009</td>\n",
       "      <td>232.400559</td>\n",
       "      <td>462.571010</td>\n",
       "      <td>0.000000</td>\n",
       "      <td>139.556540</td>\n",
       "    </tr>\n",
       "    <tr>\n",
       "      <th>3</th>\n",
       "      <td>33.119447</td>\n",
       "      <td>28.733595</td>\n",
       "      <td>33.640379</td>\n",
       "      <td>45.195911</td>\n",
       "      <td>46.322613</td>\n",
       "      <td>38.580593</td>\n",
       "      <td>42.709851</td>\n",
       "      <td>39.776593</td>\n",
       "      <td>30.642523</td>\n",
       "      <td>24.077781</td>\n",
       "      <td>...</td>\n",
       "      <td>130.866648</td>\n",
       "      <td>3</td>\n",
       "      <td>37.301217</td>\n",
       "      <td>48.091666</td>\n",
       "      <td>24.077781</td>\n",
       "      <td>6.500940</td>\n",
       "      <td>240.903927</td>\n",
       "      <td>419.116211</td>\n",
       "      <td>130.504842</td>\n",
       "      <td>99.482297</td>\n",
       "    </tr>\n",
       "    <tr>\n",
       "      <th>4</th>\n",
       "      <td>19.453184</td>\n",
       "      <td>18.038502</td>\n",
       "      <td>16.372480</td>\n",
       "      <td>15.836151</td>\n",
       "      <td>23.020714</td>\n",
       "      <td>23.356387</td>\n",
       "      <td>21.816119</td>\n",
       "      <td>22.132527</td>\n",
       "      <td>21.352715</td>\n",
       "      <td>19.915726</td>\n",
       "      <td>...</td>\n",
       "      <td>0.000000</td>\n",
       "      <td>3</td>\n",
       "      <td>24.759123</td>\n",
       "      <td>49.115809</td>\n",
       "      <td>14.676970</td>\n",
       "      <td>9.009366</td>\n",
       "      <td>151.646729</td>\n",
       "      <td>419.000244</td>\n",
       "      <td>0.000000</td>\n",
       "      <td>192.302860</td>\n",
       "    </tr>\n",
       "  </tbody>\n",
       "</table>\n",
       "<p>5 rows × 49 columns</p>\n",
       "</div>"
      ],
      "text/plain": [
       "           0          1          2          3          4          5  \\\n",
       "0  51.509708  49.206464  53.098951  52.469692  53.167057  52.176484   \n",
       "1  55.108600  51.864689  51.652674  47.638640  49.127333  48.002193   \n",
       "2  29.527381  27.660101  25.288264  20.859257  22.952716  26.111523   \n",
       "3  33.119447  28.733595  33.640379  45.195911  46.322613  38.580593   \n",
       "4  19.453184  18.038502  16.372480  15.836151  23.020714  23.356387   \n",
       "\n",
       "           6          7          8          9  ...          39  Person  \\\n",
       "0  48.654212  53.256975  52.688264  56.267311  ...  211.816406       3   \n",
       "1  53.917669  54.711934  54.078948  51.856219  ...   79.567732       3   \n",
       "2  39.505439  35.678947  34.919236  32.231507  ...  232.177734       3   \n",
       "3  42.709851  39.776593  30.642523  24.077781  ...  130.866648       3   \n",
       "4  21.816119  22.132527  21.352715  19.915726  ...    0.000000       3   \n",
       "\n",
       "      dbMean      dbMax      dbMin      dbSd      hzMean       hzMax  \\\n",
       "0  50.819216  56.267311  45.391763  2.927105  271.797780  558.574219   \n",
       "1  53.610306  57.178711  47.638640  2.794113  147.807673  331.631226   \n",
       "2  32.278234  41.733744  20.859257  5.754009  232.400559  462.571010   \n",
       "3  37.301217  48.091666  24.077781  6.500940  240.903927  419.116211   \n",
       "4  24.759123  49.115809  14.676970  9.009366  151.646729  419.000244   \n",
       "\n",
       "        hzMin        hzSd  \n",
       "0   83.540405  180.847925  \n",
       "1   34.603928  119.882361  \n",
       "2    0.000000  139.556540  \n",
       "3  130.504842   99.482297  \n",
       "4    0.000000  192.302860  \n",
       "\n",
       "[5 rows x 49 columns]"
      ]
     },
     "execution_count": 72,
     "metadata": {},
     "output_type": "execute_result"
    }
   ],
   "source": [
    "X.head()"
   ]
  },
  {
   "cell_type": "code",
   "execution_count": 73,
   "metadata": {},
   "outputs": [],
   "source": [
    "#setting our y \n",
    "y=result.Male\n",
    "\n",
    "#splitting train and test\n",
    "X_train, X_test, y_train, y_test = train_test_split(X, y, test_size=0.33, random_state=42)"
   ]
  },
  {
   "cell_type": "markdown",
   "metadata": {},
   "source": [
    "# Random forest\n",
    "## on Gender"
   ]
  },
  {
   "cell_type": "code",
   "execution_count": 74,
   "metadata": {},
   "outputs": [
    {
     "data": {
      "text/plain": [
       "array([0., 1., 0., 0., 0., 0., 0., 0., 1., 0., 0., 0., 0., 0., 0., 0., 0.,\n",
       "       0., 0., 0., 1., 1., 0., 0., 0., 0., 0., 0., 0., 0., 0., 0., 0., 0.,\n",
       "       0., 1., 0., 1., 1., 0., 0., 0., 0., 0., 0., 0., 0., 0., 0., 0., 0.,\n",
       "       1., 1., 0., 0., 0., 0., 1., 0., 0., 0., 1., 0., 0., 0., 0., 1., 0.,\n",
       "       0., 0., 0., 0., 0., 0., 0., 0., 0., 0., 1., 0., 0., 0., 0., 0., 0.,\n",
       "       0., 0., 0.])"
      ]
     },
     "execution_count": 74,
     "metadata": {},
     "output_type": "execute_result"
    }
   ],
   "source": [
    "RF = RandomForestClassifier(n_estimators=100, max_depth=2, random_state=0)  \n",
    "RF.fit(X_train, y_train)  \n",
    "RF.predict(X_test)"
   ]
  },
  {
   "cell_type": "code",
   "execution_count": 75,
   "metadata": {},
   "outputs": [
    {
     "data": {
      "text/plain": [
       "0.6704545454545454"
      ]
     },
     "execution_count": 75,
     "metadata": {},
     "output_type": "execute_result"
    }
   ],
   "source": [
    "RF.score(X_test,y_test)"
   ]
  },
  {
   "cell_type": "markdown",
   "metadata": {},
   "source": [
    "# Support vector machine \n",
    "## on Gender"
   ]
  },
  {
   "cell_type": "code",
   "execution_count": 76,
   "metadata": {},
   "outputs": [
    {
     "name": "stderr",
     "output_type": "stream",
     "text": [
      "C:\\ProgramData\\Anaconda3\\lib\\site-packages\\sklearn\\svm\\base.py:931: ConvergenceWarning: Liblinear failed to converge, increase the number of iterations.\n",
      "  \"the number of iterations.\", ConvergenceWarning)\n"
     ]
    },
    {
     "data": {
      "text/plain": [
       "array([0., 1., 1., 0., 0., 0., 0., 1., 0., 1., 0., 0., 1., 0., 1., 0., 0.,\n",
       "       0., 1., 0., 1., 1., 0., 0., 0., 1., 0., 1., 0., 0., 1., 0., 0., 1.,\n",
       "       0., 0., 0., 0., 1., 0., 1., 0., 0., 1., 0., 1., 1., 0., 0., 1., 0.,\n",
       "       1., 1., 0., 0., 1., 1., 0., 0., 0., 0., 1., 0., 0., 0., 0., 0., 1.,\n",
       "       1., 1., 0., 0., 0., 0., 0., 0., 1., 0., 1., 0., 1., 1., 0., 1., 0.,\n",
       "       0., 0., 0.])"
      ]
     },
     "execution_count": 76,
     "metadata": {},
     "output_type": "execute_result"
    }
   ],
   "source": [
    "SVM = svm.LinearSVC()  \n",
    "SVM.fit(X_train, y_train)  \n",
    "SVM.predict(X_test) "
   ]
  },
  {
   "cell_type": "code",
   "execution_count": 77,
   "metadata": {},
   "outputs": [
    {
     "data": {
      "text/plain": [
       "0.5681818181818182"
      ]
     },
     "execution_count": 77,
     "metadata": {},
     "output_type": "execute_result"
    }
   ],
   "source": [
    "SVM.score(X_test,y_test)"
   ]
  },
  {
   "cell_type": "markdown",
   "metadata": {},
   "source": [
    "# Logistic regression\n",
    "## on Gender"
   ]
  },
  {
   "cell_type": "code",
   "execution_count": 78,
   "metadata": {},
   "outputs": [
    {
     "name": "stderr",
     "output_type": "stream",
     "text": [
      "C:\\ProgramData\\Anaconda3\\lib\\site-packages\\sklearn\\linear_model\\logistic.py:758: ConvergenceWarning: lbfgs failed to converge. Increase the number of iterations.\n",
      "  \"of iterations.\", ConvergenceWarning)\n"
     ]
    },
    {
     "data": {
      "text/plain": [
       "array([0., 1., 1., 1., 0., 0., 0., 0., 0., 1., 0., 0., 1., 0., 1., 1., 0.,\n",
       "       1., 1., 1., 1., 1., 1., 0., 1., 1., 0., 1., 1., 0., 0., 1., 0., 1.,\n",
       "       0., 1., 1., 0., 0., 0., 1., 1., 0., 1., 1., 1., 1., 0., 0., 0., 0.,\n",
       "       1., 1., 0., 0., 1., 1., 1., 0., 0., 0., 1., 1., 0., 0., 0., 0., 1.,\n",
       "       0., 1., 0., 0., 1., 0., 0., 0., 1., 1., 0., 1., 0., 0., 1., 1., 0.,\n",
       "       0., 0., 0.])"
      ]
     },
     "execution_count": 78,
     "metadata": {},
     "output_type": "execute_result"
    }
   ],
   "source": [
    "LR = LogisticRegression(random_state=0, solver='lbfgs', multi_class='ovr').fit(X_train, y_train)  \n",
    "LR.predict(X_test)  "
   ]
  },
  {
   "cell_type": "code",
   "execution_count": 79,
   "metadata": {},
   "outputs": [
    {
     "data": {
      "text/plain": [
       "0.5227272727272727"
      ]
     },
     "execution_count": 79,
     "metadata": {},
     "output_type": "execute_result"
    }
   ],
   "source": [
    "LR.score(X_test,y_test)"
   ]
  },
  {
   "cell_type": "markdown",
   "metadata": {},
   "source": [
    "# Neural Network\n",
    "## on Gender"
   ]
  },
  {
   "cell_type": "code",
   "execution_count": 80,
   "metadata": {},
   "outputs": [
    {
     "data": {
      "text/plain": [
       "array([0., 1., 0., 1., 0., 1., 0., 0., 0., 0., 0., 0., 0., 0., 1., 1., 0.,\n",
       "       0., 1., 0., 0., 0., 0., 1., 0., 0., 0., 1., 0., 0., 0., 0., 0., 1.,\n",
       "       0., 0., 0., 0., 0., 1., 1., 1., 0., 0., 0., 0., 0., 0., 0., 1., 0.,\n",
       "       0., 0., 0., 0., 1., 0., 0., 0., 0., 1., 0., 0., 0., 0., 0., 0., 0.,\n",
       "       0., 0., 0., 0., 0., 1., 0., 1., 0., 0., 0., 1., 0., 1., 0., 1., 0.,\n",
       "       0., 0., 0.])"
      ]
     },
     "execution_count": 80,
     "metadata": {},
     "output_type": "execute_result"
    }
   ],
   "source": [
    "NN = MLPClassifier(solver='lbfgs', alpha=0.1, hidden_layer_sizes=(5, 2), random_state=1)  \n",
    "NN.fit(X_train, y_train)  \n",
    "NN.predict(X_test)"
   ]
  },
  {
   "cell_type": "code",
   "execution_count": 81,
   "metadata": {},
   "outputs": [
    {
     "data": {
      "text/plain": [
       "0.6818181818181818"
      ]
     },
     "execution_count": 81,
     "metadata": {},
     "output_type": "execute_result"
    }
   ],
   "source": [
    "NN.score(X_test, y_test)"
   ]
  },
  {
   "cell_type": "markdown",
   "metadata": {},
   "source": [
    "# MODELS ON FEELING"
   ]
  },
  {
   "cell_type": "code",
   "execution_count": 82,
   "metadata": {},
   "outputs": [],
   "source": [
    "y=result.Feeling \n",
    "\n",
    "\n",
    "#splitting train and test\n",
    "X_train, X_test, y_train, y_test = train_test_split(X, y, test_size=0.33, random_state=42)"
   ]
  },
  {
   "cell_type": "markdown",
   "metadata": {},
   "source": [
    "# Support vector machine \n",
    "## on Feeling"
   ]
  },
  {
   "cell_type": "code",
   "execution_count": 83,
   "metadata": {},
   "outputs": [
    {
     "name": "stderr",
     "output_type": "stream",
     "text": [
      "C:\\ProgramData\\Anaconda3\\lib\\site-packages\\sklearn\\svm\\base.py:196: FutureWarning: The default value of gamma will change from 'auto' to 'scale' in version 0.22 to account better for unscaled features. Set gamma explicitly to 'auto' or 'scale' to avoid this warning.\n",
      "  \"avoid this warning.\", FutureWarning)\n"
     ]
    },
    {
     "data": {
      "text/plain": [
       "array([3, 3, 3, 3, 3, 3, 3, 3, 3, 3, 3, 3, 3, 3, 3, 3, 3, 3, 3, 3, 3, 3,\n",
       "       3, 3, 3, 3, 3, 3, 3, 3, 3, 3, 3, 3, 3, 3, 3, 3, 3, 3, 3, 3, 3, 3,\n",
       "       3, 3, 3, 3, 3, 3, 3, 3, 3, 3, 3, 3, 3, 3, 3, 3, 3, 3, 3, 3, 3, 3,\n",
       "       3, 3, 3, 3, 3, 3, 3, 3, 3, 3, 3, 3, 3, 3, 3, 3, 3, 3, 3, 3, 3, 3])"
      ]
     },
     "execution_count": 83,
     "metadata": {},
     "output_type": "execute_result"
    }
   ],
   "source": [
    "SVM = svm.SVC(decision_function_shape=\"ovo\")  \n",
    "SVM.fit(X_train, y_train)  \n",
    "SVM.predict(X_test) "
   ]
  },
  {
   "cell_type": "code",
   "execution_count": 84,
   "metadata": {},
   "outputs": [
    {
     "data": {
      "text/plain": [
       "0.26136363636363635"
      ]
     },
     "execution_count": 84,
     "metadata": {},
     "output_type": "execute_result"
    }
   ],
   "source": [
    "SVM.score(X_test,y_test)"
   ]
  },
  {
   "cell_type": "markdown",
   "metadata": {},
   "source": [
    "# Logistic regression\n",
    "## on Feeling"
   ]
  },
  {
   "cell_type": "code",
   "execution_count": 85,
   "metadata": {},
   "outputs": [
    {
     "name": "stderr",
     "output_type": "stream",
     "text": [
      "C:\\ProgramData\\Anaconda3\\lib\\site-packages\\sklearn\\linear_model\\logistic.py:758: ConvergenceWarning: lbfgs failed to converge. Increase the number of iterations.\n",
      "  \"of iterations.\", ConvergenceWarning)\n"
     ]
    },
    {
     "data": {
      "text/plain": [
       "array([2, 1, 0, 3, 2, 3, 2, 1, 2, 1, 3, 0, 1, 3, 3, 3, 3, 3, 1, 1, 0, 1,\n",
       "       3, 2, 2, 1, 1, 1, 2, 0, 0, 3, 1, 0, 0, 0, 2, 0, 2, 3, 3, 2, 2, 3,\n",
       "       0, 1, 1, 0, 0, 3, 2, 3, 0, 2, 0, 1, 3, 3, 3, 0, 3, 2, 2, 3, 0, 3,\n",
       "       0, 1, 1, 2, 2, 0, 2, 3, 0, 3, 1, 2, 0, 2, 3, 1, 3, 3, 2, 2, 3, 2])"
      ]
     },
     "execution_count": 85,
     "metadata": {},
     "output_type": "execute_result"
    }
   ],
   "source": [
    "LR = LogisticRegression(random_state=0, solver='lbfgs', multi_class='multinomial').fit(X_train, y_train)  \n",
    "LR.predict(X_test)"
   ]
  },
  {
   "cell_type": "code",
   "execution_count": 86,
   "metadata": {},
   "outputs": [
    {
     "data": {
      "text/plain": [
       "0.42045454545454547"
      ]
     },
     "execution_count": 86,
     "metadata": {},
     "output_type": "execute_result"
    }
   ],
   "source": [
    "LR.score(X_test,y_test)"
   ]
  },
  {
   "cell_type": "markdown",
   "metadata": {},
   "source": [
    "# Random forest\n",
    "## on Feeling"
   ]
  },
  {
   "cell_type": "code",
   "execution_count": 87,
   "metadata": {},
   "outputs": [
    {
     "data": {
      "text/plain": [
       "array([0, 3, 3, 3, 3, 3, 2, 3, 0, 3, 2, 0, 3, 3, 3, 3, 0, 3, 3, 2, 0, 3,\n",
       "       0, 3, 0, 3, 3, 3, 3, 0, 2, 3, 3, 3, 0, 0, 2, 0, 0, 3, 1, 2, 0, 3,\n",
       "       3, 1, 2, 0, 3, 3, 3, 3, 0, 0, 3, 3, 3, 3, 3, 0, 3, 0, 1, 0, 0, 3,\n",
       "       0, 3, 3, 2, 0, 0, 2, 3, 3, 3, 3, 3, 0, 3, 3, 3, 3, 3, 0, 3, 3, 3])"
      ]
     },
     "execution_count": 87,
     "metadata": {},
     "output_type": "execute_result"
    }
   ],
   "source": [
    "RF = RandomForestClassifier(n_estimators=100, max_depth=2, random_state=0)  \n",
    "RF.fit(X_train, y_train)  \n",
    "RF.predict(X_test)"
   ]
  },
  {
   "cell_type": "code",
   "execution_count": 88,
   "metadata": {},
   "outputs": [
    {
     "data": {
      "text/plain": [
       "0.3068181818181818"
      ]
     },
     "execution_count": 88,
     "metadata": {},
     "output_type": "execute_result"
    }
   ],
   "source": [
    "RF.score(X_test,y_test)"
   ]
  },
  {
   "cell_type": "markdown",
   "metadata": {},
   "source": [
    "# Neural Network\n",
    "## on Feeling"
   ]
  },
  {
   "cell_type": "code",
   "execution_count": 89,
   "metadata": {},
   "outputs": [
    {
     "data": {
      "text/plain": [
       "array([0, 0, 3, 0, 0, 3, 0, 3, 0, 3, 0, 0, 0, 0, 0, 0, 0, 0, 3, 3, 0, 0,\n",
       "       0, 0, 0, 3, 3, 3, 0, 0, 0, 0, 3, 0, 0, 0, 0, 0, 0, 3, 3, 3, 0, 3,\n",
       "       3, 3, 3, 0, 0, 3, 3, 0, 0, 0, 0, 3, 3, 0, 3, 0, 3, 0, 0, 0, 0, 0,\n",
       "       0, 3, 3, 0, 0, 0, 0, 0, 0, 0, 3, 3, 0, 3, 3, 3, 0, 3, 0, 0, 0, 0])"
      ]
     },
     "execution_count": 89,
     "metadata": {},
     "output_type": "execute_result"
    }
   ],
   "source": [
    "NN = MLPClassifier(solver='lbfgs', alpha=1e-5, hidden_layer_sizes=(5, 2), random_state=1)  \n",
    "NN.fit(X_train, y_train)  \n",
    "NN.predict(X_test)"
   ]
  },
  {
   "cell_type": "code",
   "execution_count": 90,
   "metadata": {},
   "outputs": [
    {
     "data": {
      "text/plain": [
       "0.20454545454545456"
      ]
     },
     "execution_count": 90,
     "metadata": {},
     "output_type": "execute_result"
    }
   ],
   "source": [
    "NN.score(X_test, y_test)"
   ]
  },
  {
   "cell_type": "markdown",
   "metadata": {},
   "source": [
    "# Clustering"
   ]
  },
  {
   "cell_type": "code",
   "execution_count": 91,
   "metadata": {},
   "outputs": [],
   "source": [
    "##set the kmean model\n",
    "kmeans = KMeans(init='k-means++', n_init=10, n_clusters=2, random_state=0).fit(list(result[\"Db\"]))"
   ]
  },
  {
   "cell_type": "code",
   "execution_count": 92,
   "metadata": {},
   "outputs": [
    {
     "name": "stdout",
     "output_type": "stream",
     "text": [
      "0.5924528301886792\n"
     ]
    }
   ],
   "source": [
    "##predict the gender from Db for each line in the matrix\n",
    "count=0 #to count how many times it's right\n",
    "for i in range(len(result)):\n",
    "    pred=kmeans.predict(list([result[\"Db\"][i]])) #say in which cluster is the datapoint db, i\n",
    "    true=result[\"Male\"][i] #the true Male value of line i \n",
    "    \n",
    "#     print(str(pred)+\" \"+str(true))\n",
    "    if pred==true: #if he get the real value\n",
    "        count+=1\n",
    "# print(str(count)+\"/\"+str(len(result)))     #print how many times it predict  \n",
    "print(count/len(result))"
   ]
  },
  {
   "cell_type": "code",
   "execution_count": null,
   "metadata": {},
   "outputs": [],
   "source": [
    "\"\"\"#let's now encode the cathegorical variables\n",
    "toAdd=pd.get_dummies(result['Person']).reset_index(drop=True)\n",
    "result=pd.concat([result,toAdd], axis=1, sort=False)\n",
    "\n",
    "toAdd=pd.get_dummies(result['Feeling']).reset_index(drop=True)\n",
    "result=pd.concat([result,toAdd], axis=1, sort=False)\n",
    "\n",
    "result=result.drop(['Person','Feeling'],axis=1)\"\"\""
   ]
  },
  {
   "cell_type": "code",
   "execution_count": null,
   "metadata": {},
   "outputs": [],
   "source": [
    "\"\"\"\"count=0\n",
    "for i in range(len(y_test)):\n",
    "    print(y_test.reset_index(drop=True)[i],end= \"-\")\n",
    "    print(LR.predict(X_test)[i], end='')\n",
    "    if LR.predict(X_test)[i]==y_test.reset_index(drop=True)[i]:\n",
    "        print(' well done! \\n')\n",
    "        count+=1\n",
    "    else:\n",
    "        print('\\n')\n",
    "print(count/len(y_test))\"\"\"\""
   ]
  },
  {
   "cell_type": "code",
   "execution_count": null,
   "metadata": {},
   "outputs": [],
   "source": [
    "\"\"\"result.head()\"\"\""
   ]
  },
  {
   "cell_type": "code",
   "execution_count": null,
   "metadata": {},
   "outputs": [],
   "source": [
    "\"\"\"#Create a new matrix 26x123x2 in which we have\n",
    "#26 lines--->the number of records\n",
    "#123 cols--->the pitch&Db recorded by SJapp\n",
    "#2 elements for each cell---> Db, Hz\n",
    "newVec=[]#gonna be our final result\n",
    "for i in range(len(result)):\n",
    "    temp=[]#gonna have 26 of this\n",
    "    for k in range(len(result[\"Db\"][i])):#fill our temp with a 123x2 matrix\n",
    "        d=result[\"Db\"][i][k]\n",
    "        h=result[\"Hz\"][i][k]\n",
    "        temp.append([d,h])#for each cycle it writes a cell with 2 values (db,hz)\n",
    "    newVec.append(temp)\n",
    "newVec\"\"\""
   ]
  },
  {
   "cell_type": "code",
   "execution_count": null,
   "metadata": {},
   "outputs": [],
   "source": [
    "\"\"\"#trying to do with Hz and Db toghether\n",
    "kmeans = KMeans(n_clusters=2, random_state=0).fit(newVec)\"\"\""
   ]
  },
  {
   "cell_type": "code",
   "execution_count": null,
   "metadata": {},
   "outputs": [],
   "source": [
    "\"\"\"count=0\n",
    "for i in range(len(result)):\n",
    "    pred=kmeans.predict(list([result[\"Hz\"][i]+result[\"Db\"][i]]))\n",
    "    true=result[\"Male\"][i]\n",
    "    \n",
    "    print(str(pred)+\" \"+str(true))\n",
    "    if pred==true:\n",
    "        count+=1\n",
    "print(str(count)+\"/\"+str(len(result)))\"\"\"      "
   ]
  },
  {
   "cell_type": "code",
   "execution_count": null,
   "metadata": {},
   "outputs": [],
   "source": [
    "\"\"\"###change the values 0 in pitch with the mean \n",
    "#NOT NECESSARY! DON'T RUN IT\n",
    "for i in range(len(result)):\n",
    "    for k in range(len(result[\"Hz\"][i])):\n",
    "        if result[\"Hz\"][i][k]==0:\n",
    "            result[\"Hz\"][i][k]=mean(result[\"Hz\"][i])\"\"\""
   ]
  }
 ],
 "metadata": {
  "kernelspec": {
   "display_name": "Python 3",
   "language": "python",
   "name": "python3"
  },
  "language_info": {
   "codemirror_mode": {
    "name": "ipython",
    "version": 3
   },
   "file_extension": ".py",
   "mimetype": "text/x-python",
   "name": "python",
   "nbconvert_exporter": "python",
   "pygments_lexer": "ipython3",
   "version": "3.7.3"
  }
 },
 "nbformat": 4,
 "nbformat_minor": 2
}
